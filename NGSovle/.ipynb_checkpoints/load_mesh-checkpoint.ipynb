{
 "cells": [
  {
   "cell_type": "code",
   "execution_count": 1,
   "id": "anticipated-cardiff",
   "metadata": {},
   "outputs": [
    {
     "name": "stdout",
     "output_type": "stream",
     "text": [
      "optfile ./ng.opt does not exist - using default values\n",
      "togl-version : 2\n",
      "OCC module loaded\n",
      "loading ngsolve library\n",
      "NGSolve-6.2.2304\n",
      "Using Lapack\n",
      "Including sparse direct solver UMFPACK\n",
      "Running parallel using 10 thread(s)\n"
     ]
    },
    {
     "name": "stderr",
     "output_type": "stream",
     "text": [
      "2024-08-08 20:57:34.646 Python[12284:23400068] CGSSetSurfaceColorSpace failed - error 1000 (windowID:254441)\n",
      "2024-08-08 20:57:34.646 Python[12284:23400068] CGSSetSurfaceColorSpace failed - error 1000 (windowID:254441)\n"
     ]
    }
   ],
   "source": [
    "import netgen.gui\n",
    "from ngsolve import *\n",
    "from ngsolve.internal import visoptions\n",
    "from netgen.meshing import ImportMesh"
   ]
  },
  {
   "cell_type": "code",
   "execution_count": 2,
   "id": "acquired-fault",
   "metadata": {},
   "outputs": [],
   "source": [
    "ngmesh = ImportMesh('cell_mesh_R1_opt.mesh')"
   ]
  },
  {
   "cell_type": "code",
   "execution_count": 3,
   "id": "difficult-scene",
   "metadata": {},
   "outputs": [],
   "source": [
    "from netgen.meshing import FaceDescriptor\n",
    "isinplane = lambda el: all((ngmesh[v][2] < -27 for v in el.vertices))\n",
    "fd_id = ngmesh.Add(FaceDescriptor(surfnr=2,domin=1,domout=0,bc=2))\n",
    "for el in ngmesh.Elements2D():\n",
    "    if isinplane(el):\n",
    "        el.index = fd_id\n",
    "ngmesh.SetBCName(fd_id-1, \"new_bc\")"
   ]
  },
  {
   "cell_type": "code",
   "execution_count": 4,
   "id": "fancy-aruba",
   "metadata": {},
   "outputs": [],
   "source": [
    "mesh = Mesh(ngmesh)\n",
    "Draw(mesh)"
   ]
  },
  {
   "cell_type": "code",
   "execution_count": 6,
   "id": "applicable-friendship",
   "metadata": {},
   "outputs": [],
   "source": [
    "fes = H1(mesh, order = 1, dirichlet=\"new_bc\")\n",
    "u,v = fes.TnT()"
   ]
  },
  {
   "cell_type": "code",
   "execution_count": 7,
   "id": "promotional-summary",
   "metadata": {},
   "outputs": [
    {
     "data": {
      "text/plain": [
       "<ngsolve.comp.LinearForm at 0x7fa0c8548d70>"
      ]
     },
     "execution_count": 7,
     "metadata": {},
     "output_type": "execute_result"
    },
    {
     "name": "stdout",
     "output_type": "stream",
     "text": [
      "\n",
      "select element 5856 on face 1 with name default\n",
      "\tpoint: (-51.0343, -17.5936, -20.2579)\n",
      "\tnodes: 461 2294 2407 \n"
     ]
    }
   ],
   "source": [
    "a = BilinearForm(fes, symmetric=True)\n",
    "a += grad(u).Trace() * grad(v).Trace()*ds\n",
    "a.Assemble()\n",
    "\n",
    "# external force\n",
    "force = sin(x)\n",
    "f = LinearForm(fes)\n",
    "f += force*v*ds\n",
    "f.Assemble()"
   ]
  },
  {
   "cell_type": "markdown",
   "id": "equal-february",
   "metadata": {},
   "source": [
    "Homogeneous Dirichlet data"
   ]
  },
  {
   "cell_type": "code",
   "execution_count": 144,
   "id": "secondary-charles",
   "metadata": {},
   "outputs": [],
   "source": [
    "gfu = GridFunction(fes)\n",
    "gfu.vec.data = a.mat.Inverse(fes.FreeDofs())*f.vec\n",
    "Draw(gfu, mesh, \"u\", autoscale=False)"
   ]
  },
  {
   "cell_type": "markdown",
   "id": "italic-flush",
   "metadata": {},
   "source": [
    "Inhomogeneous Dirichlet data"
   ]
  },
  {
   "cell_type": "code",
   "execution_count": 145,
   "id": "subject-import",
   "metadata": {},
   "outputs": [],
   "source": [
    "gfu = GridFunction(fes)\n",
    "gfu.Set(sin(x), definedon=mesh.Boundaries(\"new_bc\"))\n",
    "r = f.vec.CreateVector()\n",
    "r.data = f.vec - a.mat*gfu.vec\n",
    "gfu.vec.data += a.mat.Inverse(fes.FreeDofs()) * r\n",
    "Draw(gfu, mesh, \"u\", autoscale=False)"
   ]
  }
 ],
 "metadata": {
  "kernelspec": {
   "display_name": "Python 3",
   "language": "python",
   "name": "python3"
  },
  "language_info": {
   "codemirror_mode": {
    "name": "ipython",
    "version": 3
   },
   "file_extension": ".py",
   "mimetype": "text/x-python",
   "name": "python",
   "nbconvert_exporter": "python",
   "pygments_lexer": "ipython3",
   "version": "3.8.7"
  }
 },
 "nbformat": 4,
 "nbformat_minor": 5
}
