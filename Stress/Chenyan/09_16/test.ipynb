{
 "cells": [
  {
   "cell_type": "code",
   "execution_count": 59,
   "id": "second-naples",
   "metadata": {},
   "outputs": [],
   "source": [
    "#---------------- import ------------------\n",
    "from ngsolve import *\n",
    "from netgen.csg import *\n",
    "import netgen.gui\n",
    "from netgen.meshing import ImportMesh\n",
    "from netgen.meshing import FaceDescriptor\n",
    "import numpy as np\n",
    "from scipy.integrate import quad"
   ]
  },
  {
   "cell_type": "code",
   "execution_count": 2,
   "id": "associate-ministry",
   "metadata": {},
   "outputs": [
    {
     "name": "stdout",
     "output_type": "stream",
     "text": [
      " Start Findpoints\n",
      " Analyze spec points\n",
      " Find edges\n",
      " Start Findpoints\n",
      " Analyze spec points\n",
      " Find edges\n",
      " Start Findpoints\n",
      " Analyze spec points\n",
      " Find edges\n",
      " Surface 1 / 3\n",
      " Optimize Surface\n",
      " Surface 2 / 3\n",
      " Optimize Surface\n",
      " Surface 3 / 3\n",
      " Optimize Surface\n",
      " Remove Illegal Elements\n",
      " Volume Optimization\n",
      " Curve elements, order = 2\n"
     ]
    }
   ],
   "source": [
    "#---------------- meshing ------------------\n",
    "geo = CSGeometry()\n",
    "sph = Sphere(Pnt(0, 0, 0.2), 1).bc(\"sph\")\n",
    "down = Plane(Pnt(0, 0, 0), Vec(0, 0, -1)).bc(\"down\")\n",
    "top = Plane(Pnt(0, 0, 1.1), Vec(0, 0, -1)).bc(\"top\")\n",
    "sphtop = sph * top\n",
    "sphdown = sph * down\n",
    "pt = sphdown - sphtop \n",
    "geo.AddSurface(sph, pt)\n",
    "geo.AddSurface(down, pt)\n",
    "geo.AddSurface(top, pt)\n",
    "ngmesh = geo.GenerateMesh(maxh=0.1)\n",
    "mesh = Mesh(ngmesh)\n",
    "mesh.Curve(2)\n",
    "Draw(mesh)"
   ]
  },
  {
   "cell_type": "code",
   "execution_count": 3,
   "id": "global-indonesian",
   "metadata": {},
   "outputs": [],
   "source": [
    "#---------------- parameters ------------------\n",
    "Pi = np.pi\n",
    "orderset = 2\n",
    "dimset = mesh.dim\n",
    "v = 0.5\n",
    "Yg = 1\n",
    "Yf = 1\n",
    "Pout = 1\n",
    "def rho(theta):\n",
    "  return np.sin(10*pi*theta)\n",
    "def integrand0(theta):\n",
    "    return rho(theta)\n",
    "rho0value, _ = quad(lambda theta: integrand0(theta).real, 0, np.pi)\n",
    "rho0value = rho0value*2\n",
    "def integrand1(theta):\n",
    "    return rho(theta) * np.exp(-2j * theta)\n",
    "rho1value, _ = quad(lambda theta: integrand1(theta).real, 0, np.pi)\n",
    "rho1bvalue, _ = quad(lambda theta: integrand1(theta).imag, 0, np.pi)\n",
    "rho1value = rho1value*2\n",
    "rho1bvalue = - rho1bvalue*2\n",
    "def integrand2(theta):\n",
    "    return rho(theta) * np.exp(-4j * theta)\n",
    "rho2value, _ = quad(lambda theta: integrand2(theta).real, 0, np.pi)\n",
    "rho2bvalue, _ = quad(lambda theta: integrand2(theta).imag, 0, np.pi)\n",
    "rho2value = rho2value*2\n",
    "rho2bvalue = - rho2bvalue*2"
   ]
  },
  {
   "cell_type": "code",
   "execution_count": 4,
   "id": "textile-shell",
   "metadata": {},
   "outputs": [],
   "source": [
    "#---------------- FESpace ------------------    \n",
    "fes = H1(mesh, order=orderset,  dirichlet=\"down|top\", dim=dimset)\n",
    "u = fes.TrialFunction()\n",
    "nsurf = specialcf.normal(3)"
   ]
  },
  {
   "cell_type": "code",
   "execution_count": 5,
   "id": "indonesian-currency",
   "metadata": {},
   "outputs": [],
   "source": [
    "#-------------------- energy function --------------------------\n",
    "u_grad = grad(u).Trace()\n",
    "Sgradu = u_grad - u_grad * OuterProduct(nsurf, nsurf)\n",
    "Eu = 1/2*(Sgradu.trans * Sgradu - Id(dimset))\n",
    "# def Cmatrix(rho0, rho1,rho1b,rho2,rho2b):\n",
    "#   Cmat = Yg*(1*(globals()['E00']+globals()['E11']) + v*(globals()['E10']+globals()['E01']) + (1-v)/2*globals()['E22']) + Pi*Yf/16*((3*rho0+rho2+4*rho1)*globals()['E00']\\\n",
    "#   +(3*rho0+rho2-4*rho1)*globals()['E11']+(rho0-rho2)*(globals()['E01']+globals()['E10']+globals()['E22'])+(2*rho1b+rho2b)*(globals()['E02']+globals()['E20'])\\\n",
    "#   +(2*rho1b-rho2b)*(globals()['E12']+globals()['E21']))\n",
    "#   return Cmat       \n",
    "Cg = CoefficientFunction(((Yg,v*Yg,0),(Yg,v*Yg,0),(0,0,Yg*(v-1)/2)),dims=(3,3))\n",
    "# Phi = Eu.trans * (Cg * Eu)\n",
    "Phi = Eu.trans * (Eu)\n",
    "beta = Pout*nsurf\n",
    "ngradu = u_grad.trans * nsurf\n",
    "a = BilinearForm(fes, symmetric=False, check_unused=False)\n",
    "a += Variation(Trace(Phi).Compile()*ds)\n",
    "a += Variation((ngradu-beta)*(ngradu-beta)*ds)"
   ]
  },
  {
   "cell_type": "code",
   "execution_count": 56,
   "id": "split-panel",
   "metadata": {},
   "outputs": [],
   "source": [
    "#------------------- grid functions ---------------------\n",
    "u = GridFunction(fes)\n",
    "du = GridFunction(fes)\n",
    "res = u.vec.CreateVector()\n",
    "ini = CoefficientFunction([sin(x**2*y**2)*z*(1.1-z)*nsurf if bc == 'sph' else (0,0,0) for bc in mesh.GetBoundaries()])\n",
    "u.Set(ini,definedon=fes.mesh.Boundaries(\"sph|down|top\"))\n",
    "Draw(u)"
   ]
  },
  {
   "cell_type": "code",
   "execution_count": 58,
   "id": "moving-model",
   "metadata": {},
   "outputs": [
    {
     "name": "stdout",
     "output_type": "stream",
     "text": [
      "Newton iteration 1\n",
      "  energy =  18.389517469167206\n",
      "  err^2 = -0.05731799975444444\n",
      "Newton iteration 2\n",
      "  energy =  18.376915024056196\n",
      "  err^2 = -0.0840061034780522\n",
      "Newton iteration 3\n",
      "  energy =  18.358450612630815\n",
      "  err^2 = -0.1243325492771966\n",
      "Newton iteration 4\n",
      "  energy =  18.331137461922474\n",
      "  err^2 = -0.1872321769034334\n",
      "Newton iteration 5\n",
      "  energy =  18.29004953025849\n",
      "  err^2 = -0.29214523075438237\n"
     ]
    }
   ],
   "source": [
    "#------------------- Newton ---------------------\n",
    "step = 0.2\n",
    "for i in range(5):\n",
    "   print (\"Newton iteration\", i+1)\n",
    "   print (\"  energy = \", a.Energy(u.vec))\n",
    "   a.Apply(u.vec, res) \n",
    "   a.AssembleLinearization(u.vec)\n",
    "   du.vec.data = a.mat.Inverse(fes.FreeDofs()) * res\n",
    "   L2norm = sqrt(Integrate(InnerProduct(du,du), mesh, definedon=fes.mesh.Boundaries(\"sph\")))\n",
    "#    du.vec.data *= 1/L2norm\n",
    "   print (\"  err^2 =\", InnerProduct(du.vec, res))\n",
    "   u.vec.data += step * du.vec.data\n",
    "Draw(u)"
   ]
  },
  {
   "cell_type": "code",
   "execution_count": null,
   "id": "moderate-foster",
   "metadata": {},
   "outputs": [],
   "source": []
  }
 ],
 "metadata": {
  "kernelspec": {
   "display_name": "Python 3",
   "language": "python",
   "name": "python3"
  },
  "language_info": {
   "codemirror_mode": {
    "name": "ipython",
    "version": 3
   },
   "file_extension": ".py",
   "mimetype": "text/x-python",
   "name": "python",
   "nbconvert_exporter": "python",
   "pygments_lexer": "ipython3",
   "version": "3.8.7"
  }
 },
 "nbformat": 4,
 "nbformat_minor": 5
}
