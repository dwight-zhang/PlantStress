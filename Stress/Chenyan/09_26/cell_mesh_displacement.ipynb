{
 "cells": [
  {
   "cell_type": "code",
   "execution_count": 1,
   "id": "brazilian-heath",
   "metadata": {},
   "outputs": [
    {
     "name": "stdout",
     "output_type": "stream",
     "text": [
      "optfile ./ng.opt does not exist - using default values\n",
      "togl-version : 2\n",
      "OCC module loaded\n",
      "loading ngsolve library\n",
      "NGSolve-6.2.2304\n",
      "Using Lapack\n",
      "Including sparse direct solver UMFPACK\n",
      "Running parallel using 10 thread(s)\n"
     ]
    },
    {
     "name": "stderr",
     "output_type": "stream",
     "text": [
      "2024-10-16 23:20:46.484 Python[25941:3978994] CGSSetSurfaceColorSpace failed - error 1000 (windowID:41386)\n",
      "2024-10-16 23:20:46.484 Python[25941:3978994] CGSSetSurfaceColorSpace failed - error 1000 (windowID:41386)\n",
      "2024-10-16 23:20:46.630 Python[25941:3978994] +[IMKClient subclass]: chose IMKClient_Legacy\n",
      "2024-10-16 23:20:46.630 Python[25941:3978994] +[IMKInputSession subclass]: chose IMKInputSession_Legacy\n"
     ]
    }
   ],
   "source": [
    "import netgen.gui\n",
    "from ngsolve import *\n",
    "from ngsolve.internal import visoptions\n",
    "from netgen.meshing import ImportMesh"
   ]
  },
  {
   "cell_type": "code",
   "execution_count": 2,
   "id": "curious-prize",
   "metadata": {},
   "outputs": [],
   "source": [
    "ngmesh = ImportMesh('cell_mesh_R1_opt.mesh')"
   ]
  },
  {
   "cell_type": "code",
   "execution_count": 3,
   "id": "statutory-breakdown",
   "metadata": {},
   "outputs": [],
   "source": [
    "from netgen.meshing import FaceDescriptor\n",
    "isinpz = lambda el: all((((ngmesh[v][2] < -26)) for v in el.vertices))\n",
    "fd_id = ngmesh.Add(FaceDescriptor(surfnr=1,domin=1,domout=0,bc=2))\n",
    "for el in ngmesh.Elements2D():\n",
    "    if isinpz(el):\n",
    "        el.index = fd_id \n",
    "ngmesh.SetBCName(fd_id-1, \"down\")"
   ]
  },
  {
   "cell_type": "code",
   "execution_count": 4,
   "id": "liable-multimedia",
   "metadata": {},
   "outputs": [
    {
     "data": {
      "text/plain": [
       "('default', 'down')"
      ]
     },
     "execution_count": 4,
     "metadata": {},
     "output_type": "execute_result"
    }
   ],
   "source": [
    "mesh = Mesh(ngmesh)\n",
    "Draw(mesh)\n",
    "mesh.GetBoundaries()"
   ]
  },
  {
   "cell_type": "code",
   "execution_count": 5,
   "id": "heard-spencer",
   "metadata": {},
   "outputs": [],
   "source": [
    "#---------------- parameters ------------------\n",
    "import numpy as np\n",
    "Pi = np.pi\n",
    "nu = 1\n",
    "Pout = 0.01\n",
    "Yg = CoefficientFunction(1)\n",
    "Draw(Yg, mesh, \"stiff\")"
   ]
  },
  {
   "cell_type": "code",
   "execution_count": 6,
   "id": "macro-rogers",
   "metadata": {},
   "outputs": [],
   "source": [
    "orderset = 2\n",
    "dimset = mesh.dim\n",
    "fes = H1(mesh, order=orderset,  dirichlet=\"down\", dim=dimset)"
   ]
  },
  {
   "cell_type": "code",
   "execution_count": 7,
   "id": "cosmetic-allergy",
   "metadata": {},
   "outputs": [],
   "source": [
    "def SolveLEPDE(fes, Yg, nu, Pout):\n",
    "    # TeTfunctions\n",
    "    u = fes.TrialFunction()\n",
    "    v = fes.TestFunction()\n",
    "\n",
    "    # bilinear form\n",
    "    lame1 = Yg / (2 * (1 + nu))\n",
    "    lame2 = Yg  * nu /( (1 + nu) * ( 1 - 2 * nu))\n",
    "    u_grad = grad(u).Trace()\n",
    "    v_grad = grad(v).Trace()\n",
    "    u_div = Trace(u_grad * Id(dimset)).Compile()\n",
    "    v_div = Trace(u_grad * Id(dimset)).Compile()\n",
    "    a = BilinearForm(fes, symmetric=True, check_unused=False)\n",
    "    a += lame1 * InnerProduct(u_grad, v_grad) * ds\n",
    "    a += lame2 * u_div * v_div * ds\n",
    "    a.Assemble()\n",
    "\n",
    "    # linear form\n",
    "    nsurf = specialcf.normal(dimset)\n",
    "    force = Pout * nsurf\n",
    "    f = LinearForm(fes)\n",
    "    f += force*v*ds\n",
    "    f.Assemble()\n",
    "\n",
    "    # initial gridfunction and solve equation\n",
    "    gfu = GridFunction(fes)\n",
    "    gfu.vec.data = a.mat.Inverse(fes.FreeDofs())*f.vec\n",
    "\n",
    "    return gfu"
   ]
  },
  {
   "cell_type": "code",
   "execution_count": 8,
   "id": "aboriginal-daily",
   "metadata": {},
   "outputs": [],
   "source": [
    "gfu = GridFunction(fes)\n",
    "gfu = SolveLEPDE(fes, Yg, nu, Pout)\n",
    "Draw(gfu,mesh,'u')"
   ]
  },
  {
   "cell_type": "code",
   "execution_count": 9,
   "id": "elect-batch",
   "metadata": {},
   "outputs": [],
   "source": [
    "u_grad = grad(gfu)\n",
    "I = Id(dimset)\n",
    "lame1 = Yg / (2 * (1 + nu))\n",
    "lame2 = Yg  * nu /( (1 + nu) * ( 1 - 2 * nu))\n",
    "# E = lame1 * (u_grad.trans + u_grad - 2 * I) + lame2 * InnerProduct((u_grad.trans - I),I ) * I\n",
    "E = lame1 * (u_grad.trans + u_grad - 2 * I) + lame2 * (div(gfu) - 3)* I\n",
    "gfw = GridFunction(fes)"
   ]
  },
  {
   "cell_type": "code",
   "execution_count": 16,
   "id": "tested-candy",
   "metadata": {},
   "outputs": [],
   "source": [
    "RE = E.Reshape((3,3))\n",
    "v = (RE.Eig()[8], RE.Eig()[4], RE.Eig()[0])"
   ]
  },
  {
   "cell_type": "code",
   "execution_count": 17,
   "id": "departmental-hopkins",
   "metadata": {},
   "outputs": [],
   "source": [
    "Draw(v,mesh,'eig')"
   ]
  },
  {
   "cell_type": "code",
   "execution_count": 2,
   "id": "forward-joyce",
   "metadata": {},
   "outputs": [
    {
     "name": "stdout",
     "output_type": "stream",
     "text": [
      "Help on class VTKOutput in module ngsolve.comp:\n",
      "\n",
      "class VTKOutput(pybind11_builtins.pybind11_object)\n",
      " |  Method resolution order:\n",
      " |      VTKOutput\n",
      " |      pybind11_builtins.pybind11_object\n",
      " |      builtins.object\n",
      " |  \n",
      " |  Methods defined here:\n",
      " |  \n",
      " |  Do(...)\n",
      " |      Do(*args, **kwargs)\n",
      " |      Overloaded function.\n",
      " |      \n",
      " |      1. Do(self: ngsolve.comp.VTKOutput, time: float = -1, vb: ngsolve.comp.VorB = <VorB.VOL: 0>) -> str\n",
      " |      \n",
      " |      \n",
      " |      Write mesh and fields to file. When called several times on the same object\n",
      " |      an index is added to the output file name. A meta file (.pvd) is written \n",
      " |      (unless in legacy mode).\n",
      " |      \n",
      " |      Returns string of the output filename.\n",
      " |      \n",
      " |      Parameters:\n",
      " |      \n",
      " |      time : \n",
      " |        associate a time to the current output\n",
      " |      \n",
      " |      vb: VOL_or_BND (default VOL)\n",
      " |        defines if output is done on the volume (VOL) or surface mesh (BND).\n",
      " |                  .\n",
      " |      \n",
      " |      2. Do(self: ngsolve.comp.VTKOutput, time: float = -1, vb: ngsolve.comp.VorB = <VorB.VOL: 0>, drawelems: pyngcore.pyngcore.BitArray) -> str\n",
      " |      \n",
      " |      \n",
      " |      Write mesh and fields to file. When called several times on the same object\n",
      " |      an index is added to the output file name. A meta file (.pvd) is written \n",
      " |      (unless in legacy mode).\n",
      " |      \n",
      " |      Returns string of the output filename.\n",
      " |      \n",
      " |      Parameters:\n",
      " |      \n",
      " |      time : \n",
      " |        associate a time to the current output (default: output counter)\n",
      " |      \n",
      " |      vb: VOL_or_BND (default VOL)\n",
      " |        defines if output is done on the volume (VOL) or surface mesh (BND).\n",
      " |      \n",
      " |      drawelems: BitArray\n",
      " |        defines the submesh (set of elements) that are (only) used for drawing. \n",
      " |                  .\n",
      " |  \n",
      " |  __init__(...)\n",
      " |      __init__(self: ngsolve.comp.VTKOutput, ma: ngsolve.comp.Mesh, coefs: list = [], names: list = [], filename: str = 'vtkout', subdivision: int = 0, only_element: int = -1, floatsize: str = 'double', legacy: bool = False, order: int = 1) -> None\n",
      " |      \n",
      " |      \n",
      " |      VTK output class. Allows to put mesh and field information of several CoefficientFunctions into a VTK file.\n",
      " |      (Can be used by independent visualization software, e.g. ParaView).\n",
      " |      \n",
      " |      When run in parallel, rank 0 stores no vtk output, but writes the pvd-file that links all parallel\n",
      " |      output together.\n",
      " |      \n",
      " |      Parameters:\n",
      " |      \n",
      " |      ma : ngsolve mesh\n",
      " |        mesh (Note: if a deformation is set, the output will be w.r.t. the deformed state of the mesh)\n",
      " |      \n",
      " |      coefs: list of CoefficientFunctions\n",
      " |        list of CFs that are stored as fields in the Paraview output\n",
      " |      \n",
      " |      names : list of strings\n",
      " |        labels for the fields that are put in the output file\n",
      " |      \n",
      " |      filename : string (default: \\\"output\\\")\n",
      " |        name of the output file ( .vtu file ending is added or .vtk file ending is added (legacy mode) ).\n",
      " |        If run in parallel, the suffix \\\"_procxyz\\\" is added (xyz a number). \n",
      " |        If output is written several times, the ending \\\"_stepxyz\\\" is added (xyz a counter). \n",
      " |        If run in parallel or the output is called several times a meta file with ending .pvd is also generated for convenience.\n",
      " |      \n",
      " |      subdivision : int\n",
      " |        Number of subdivision (bisections in each direction) that are applied\n",
      " |        (Note that only vertex values are stored otherwise rendering the output information piecewise linear only)\n",
      " |      \n",
      " |      only_element : int\n",
      " |        only work on one specific element (default: -1 which means `draw all elements`)\n",
      " |      \n",
      " |      floatsize : string in {\\\"single\\\", \\\"double\\\" }   object\n",
      " |        defines the precision of the output data (default is \\\"double\\\", \\\"single\\\" can be used to reduce output)\n",
      " |      \n",
      " |      legacy : bool (default: False)\n",
      " |        defines if legacy-VTK output shall be used \n",
      " |      \n",
      " |      order : int (default: 1)\n",
      " |        allowed values: 1,2\n",
      " |                  .\n",
      " |  \n",
      " |  ----------------------------------------------------------------------\n",
      " |  Static methods inherited from pybind11_builtins.pybind11_object:\n",
      " |  \n",
      " |  __new__(*args, **kwargs) from pybind11_builtins.pybind11_type\n",
      " |      Create and return a new object.  See help(type) for accurate signature.\n",
      "\n"
     ]
    }
   ],
   "source": [
    "help(VTKOutput)"
   ]
  }
 ],
 "metadata": {
  "kernelspec": {
   "display_name": "Python 3",
   "language": "python",
   "name": "python3"
  },
  "language_info": {
   "codemirror_mode": {
    "name": "ipython",
    "version": 3
   },
   "file_extension": ".py",
   "mimetype": "text/x-python",
   "name": "python",
   "nbconvert_exporter": "python",
   "pygments_lexer": "ipython3",
   "version": "3.8.7"
  }
 },
 "nbformat": 4,
 "nbformat_minor": 5
}
