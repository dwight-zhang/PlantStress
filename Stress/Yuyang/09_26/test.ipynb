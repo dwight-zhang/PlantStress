{
 "cells": [
  {
   "cell_type": "code",
   "execution_count": 1,
   "id": "outside-census",
   "metadata": {},
   "outputs": [],
   "source": [
    "#---------------- import ------------------\n",
    "from ngsolve import *\n",
    "from netgen.csg import *\n",
    "from netgen.meshing import ImportMesh\n",
    "from netgen.meshing import FaceDescriptor\n",
    "from ngsolve.webgui import Draw\n",
    "import numpy as np"
   ]
  },
  {
   "cell_type": "code",
   "execution_count": 2,
   "id": "behavioral-benchmark",
   "metadata": {
    "scrolled": true
   },
   "outputs": [
    {
     "data": {
      "application/vnd.jupyter.widget-view+json": {
       "model_id": "d90f89ff7177479ea7b05cf93d308035",
       "version_major": 2,
       "version_minor": 0
      },
      "text/plain": [
       "WebGuiWidget(layout=Layout(height='50vh', width='100%'), value={'gui_settings': {}, 'ngsolve_version': '6.2.24…"
      ]
     },
     "metadata": {},
     "output_type": "display_data"
    },
    {
     "name": "stdin",
     "output_type": "stream",
     "text": [
      "Mesh Done! \n"
     ]
    },
    {
     "data": {
      "text/plain": [
       "''"
      ]
     },
     "execution_count": 2,
     "metadata": {},
     "output_type": "execute_result"
    }
   ],
   "source": [
    "#---------------- meshing ------------------\n",
    "R = 1\n",
    "pz_down = 0.0\n",
    "cz_down = 0.75\n",
    "geo = CSGeometry()\n",
    "sph1 = Sphere(Pnt(0, 0, 0), R).bc(\"pz\")\n",
    "sph2 = Sphere(Pnt(0, 0, 0), R).bc(\"cz\")\n",
    "down = Plane(Pnt(0, 0, pz_down), Vec(0, 0, -1)).bc(\"down\")\n",
    "top = Plane(Pnt(0, 0, cz_down), Vec(0, 0, -1)).bc(\"top\")\n",
    "sph1down = sph1 * down\n",
    "sph2top = sph2 * top\n",
    "pt = sph1down - sph2top \n",
    "geo.AddSurface(sph1, pt)\n",
    "geo.AddSurface(down, pt)\n",
    "geo.AddSurface(sph2, sph2top)\n",
    "ngmesh = geo.GenerateMesh(maxh=0.1)\n",
    "mesh = Mesh(ngmesh)\n",
    "mesh.Curve(2)\n",
    "Draw(mesh)"
   ]
  },
  {
   "cell_type": "code",
   "execution_count": 3,
   "id": "marine-operations",
   "metadata": {},
   "outputs": [],
   "source": [
    "#---------------- parameters ------------------\n",
    "Pi = np.pi\n",
    "v = 0.5\n",
    "pzofcz = 0.3\n",
    "Yg_cz = 1\n",
    "Pout = 1\n",
    "Yg = CoefficientFunction([ pzofcz * Yg_cz if bc == \"pz\" else Yg_cz for bc in mesh.GetBoundaries()])"
   ]
  },
  {
   "cell_type": "code",
   "execution_count": 5,
   "id": "outside-nowhere",
   "metadata": {},
   "outputs": [],
   "source": [
    "#---------------- FESpace ------------------      \n",
    "orderset = 2\n",
    "dimset = mesh.dim\n",
    "fes = H1(mesh, order=orderset,  dirichlet=\"down\", dim=dimset)\n",
    "u = fes.TrialFunction()\n",
    "nsurf = specialcf.normal(dimset)"
   ]
  },
  {
   "cell_type": "code",
   "execution_count": 6,
   "id": "sensitive-defensive",
   "metadata": {
    "scrolled": true
   },
   "outputs": [],
   "source": [
    "#-------------------- energy function --------------------------\n",
    "u_grad = grad(u).Trace()\n",
    "Eu = 1/2*(u_grad.trans * u_grad - Id(dimset))\n",
    "Cg = CoefficientFunction(((Yg,v*Yg,0),(Yg,v*Yg,0),(0,0,Yg*(v-1)/2)),dims=(dimset,dimset))\n",
    "Phi = Eu.trans * (Cg * Eu)\n",
    "ngradu = u_grad.trans * nsurf\n",
    "beta = Pout*nsurf\n",
    "a = BilinearForm(fes, symmetric=False, check_unused=False)\n",
    "a += Variation(Trace(Phi).Compile()*ds(definedon=fes.mesh.Boundaries(\"pz|cz\")))\n",
    "a += Variation((ngradu-beta)*(ngradu-beta)*ds(definedon=fes.mesh.Boundaries(\"pz|cz\")))"
   ]
  },
  {
   "cell_type": "code",
   "execution_count": 8,
   "id": "silent-opportunity",
   "metadata": {},
   "outputs": [
    {
     "data": {
      "application/vnd.jupyter.widget-view+json": {
       "model_id": "e91cdca617d84ac595271e386a530209",
       "version_major": 2,
       "version_minor": 0
      },
      "text/plain": [
       "WebGuiWidget(layout=Layout(height='50vh', width='100%'), value={'gui_settings': {}, 'ngsolve_version': '6.2.24…"
      ]
     },
     "metadata": {},
     "output_type": "display_data"
    },
    {
     "data": {
      "text/plain": [
       "BaseWebGuiScene"
      ]
     },
     "execution_count": 8,
     "metadata": {},
     "output_type": "execute_result"
    }
   ],
   "source": [
    "#------------------- grid functions ---------------------\n",
    "u = GridFunction(fes)\n",
    "du = GridFunction(fes)\n",
    "res = u.vec.CreateVector()\n",
    "ini = CoefficientFunction([sin(x**2*y**2)*(z-pz_down)*(cz_down-z)*nsurf if bc == \"pz\" else\n",
    "                           (z-cz_down)*(R-z)*nsurf for bc in mesh.GetBoundaries()])\n",
    "u.Set(ini,definedon=fes.mesh.Boundaries(\"pz|cz\"))\n",
    "Draw(u, mesh, 'displacement')"
   ]
  },
  {
   "cell_type": "code",
   "execution_count": 9,
   "id": "removable-january",
   "metadata": {},
   "outputs": [
    {
     "name": "stdout",
     "output_type": "stream",
     "text": [
      "Damped Newton iteration 1\n",
      "  energy =  7.213842822814954\n",
      "  err^2 = 0.004016295918957715\n",
      "Damped Newton iteration 2\n",
      "  energy =  7.215814177328648\n",
      "  err^2 = 1.8806633994027033e-06\n",
      "Damped Newton iteration 3\n",
      "  energy =  7.215815117445124\n",
      "  err^2 = 4.069581674343578e-14\n"
     ]
    }
   ],
   "source": [
    "#------------------- damped Newton ---------------------\n",
    "step = 1\n",
    "for i in range(50):\n",
    "   print (\"Damped Newton iteration\", i+1)\n",
    "   print (\"  energy = \", a.Energy(u.vec))\n",
    "   a.Apply(u.vec, res) \n",
    "   a.AssembleLinearization(u.vec)\n",
    "   du.vec.data = a.mat.Inverse(fes.FreeDofs()) * res\n",
    "   r =  InnerProduct(du.vec, res)\n",
    "   print (\"  err^2 =\", abs(r))\n",
    "   u.vec.data -= step * du.vec.data\n",
    "   if abs(r) < 1e-6:\n",
    "       break"
   ]
  },
  {
   "cell_type": "code",
   "execution_count": 16,
   "id": "abandoned-worst",
   "metadata": {},
   "outputs": [
    {
     "name": "stdout",
     "output_type": "stream",
     "text": [
      "coef N6ngcomp31GridFunctionCoefficientFunctionE, real, dims = 3 x 3\n",
      "\n"
     ]
    }
   ],
   "source": [
    "#------------------- Stress data ---------------------  \n",
    "u_grad = grad(u).Trace()\n",
    "Eu = 1/2*(u_grad.trans * u_grad - Id(dimset))\n",
    "print(u_grad)"
   ]
  }
 ],
 "metadata": {
  "kernelspec": {
   "display_name": "Python 3 (ipykernel)",
   "language": "python",
   "name": "python3"
  },
  "language_info": {
   "codemirror_mode": {
    "name": "ipython",
    "version": 3
   },
   "file_extension": ".py",
   "mimetype": "text/x-python",
   "name": "python",
   "nbconvert_exporter": "python",
   "pygments_lexer": "ipython3",
   "version": "3.10.12"
  }
 },
 "nbformat": 4,
 "nbformat_minor": 5
}
