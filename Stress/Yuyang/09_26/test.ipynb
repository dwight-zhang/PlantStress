{
 "cells": [
  {
   "cell_type": "code",
   "execution_count": 1,
   "id": "medium-sitting",
   "metadata": {},
   "outputs": [],
   "source": [
    "#---------------- import ------------------\n",
    "from ngsolve import *\n",
    "from netgen.csg import *\n",
    "from netgen.meshing import ImportMesh\n",
    "from netgen.meshing import FaceDescriptor\n",
    "from ngsolve.webgui import Draw\n",
    "import numpy as np"
   ]
  },
  {
   "cell_type": "code",
   "execution_count": 2,
   "id": "cordless-surprise",
   "metadata": {
    "scrolled": true
   },
   "outputs": [
    {
     "ename": "TypeError",
     "evalue": "encodeData() got an unexpected keyword argument 'dtype'",
     "output_type": "error",
     "traceback": [
      "\u001b[0;31m---------------------------------------------------------------------------\u001b[0m",
      "\u001b[0;31mTypeError\u001b[0m                                 Traceback (most recent call last)",
      "Input \u001b[0;32mIn [2]\u001b[0m, in \u001b[0;36m<module>\u001b[0;34m\u001b[0m\n\u001b[1;32m     17\u001b[0m mesh \u001b[38;5;241m=\u001b[39m Mesh(ngmesh)\n\u001b[1;32m     18\u001b[0m mesh\u001b[38;5;241m.\u001b[39mCurve(\u001b[38;5;241m2\u001b[39m)\n\u001b[0;32m---> 19\u001b[0m \u001b[43mDraw\u001b[49m\u001b[43m(\u001b[49m\u001b[43mmesh\u001b[49m\u001b[43m)\u001b[49m\n",
      "File \u001b[0;32m/Applications/Netgen.app/Contents/Resources/lib/python3.8/site-packages/netgen/webgui.py:185\u001b[0m, in \u001b[0;36mDraw\u001b[0;34m(obj, *args, **kwargs)\u001b[0m\n\u001b[1;32m    183\u001b[0m \u001b[38;5;66;03m# render scene using widgets.DOMWidget\u001b[39;00m\n\u001b[1;32m    184\u001b[0m \u001b[38;5;28;01mif\u001b[39;00m parse(wjw\u001b[38;5;241m.\u001b[39m__version__) \u001b[38;5;241m<\u001b[39m parse(\u001b[38;5;124m\"\u001b[39m\u001b[38;5;124m0.2.15\u001b[39m\u001b[38;5;124m\"\u001b[39m):\n\u001b[0;32m--> 185\u001b[0m     \u001b[43mscene\u001b[49m\u001b[38;5;241;43m.\u001b[39;49m\u001b[43mDraw\u001b[49m\u001b[43m(\u001b[49m\u001b[43m)\u001b[49m\n\u001b[1;32m    186\u001b[0m \u001b[38;5;28;01melse\u001b[39;00m:\n\u001b[1;32m    187\u001b[0m     scene\u001b[38;5;241m.\u001b[39mDraw(\n\u001b[1;32m    188\u001b[0m         kwargs_with_defaults[\u001b[38;5;124m\"\u001b[39m\u001b[38;5;124mwidth\u001b[39m\u001b[38;5;124m\"\u001b[39m], kwargs_with_defaults[\u001b[38;5;124m\"\u001b[39m\u001b[38;5;124mheight\u001b[39m\u001b[38;5;124m\"\u001b[39m]\n\u001b[1;32m    189\u001b[0m     )\n",
      "File \u001b[0;32m/Library/Frameworks/Python.framework/Versions/3.8/lib/python3.8/site-packages/webgui_jupyter_widgets/widget.py:163\u001b[0m, in \u001b[0;36mBaseWebGuiScene.Draw\u001b[0;34m(self)\u001b[0m\n\u001b[1;32m    161\u001b[0m \u001b[38;5;28;01mdef\u001b[39;00m \u001b[38;5;21mDraw\u001b[39m(\u001b[38;5;28mself\u001b[39m):\n\u001b[1;32m    162\u001b[0m     \u001b[38;5;28mself\u001b[39m\u001b[38;5;241m.\u001b[39mwidget \u001b[38;5;241m=\u001b[39m WebGuiWidget()\n\u001b[0;32m--> 163\u001b[0m     \u001b[38;5;28mself\u001b[39m\u001b[38;5;241m.\u001b[39mwidget\u001b[38;5;241m.\u001b[39mvalue \u001b[38;5;241m=\u001b[39m \u001b[38;5;28;43mself\u001b[39;49m\u001b[38;5;241;43m.\u001b[39;49m\u001b[43mGetData\u001b[49m\u001b[43m(\u001b[49m\u001b[43m)\u001b[49m\n\u001b[1;32m    164\u001b[0m     display(\u001b[38;5;28mself\u001b[39m\u001b[38;5;241m.\u001b[39mwidget)\n",
      "File \u001b[0;32m/Applications/Netgen.app/Contents/Resources/lib/python3.8/site-packages/netgen/webgui.py:43\u001b[0m, in \u001b[0;36mWebGLScene.GetData\u001b[0;34m(self, set_minmax)\u001b[0m\n\u001b[1;32m     41\u001b[0m d \u001b[38;5;241m=\u001b[39m \u001b[38;5;28;01mNone\u001b[39;00m\n\u001b[1;32m     42\u001b[0m \u001b[38;5;28;01mif\u001b[39;00m \u001b[38;5;28mtype\u001b[39m(\u001b[38;5;28mself\u001b[39m\u001b[38;5;241m.\u001b[39mobj) \u001b[38;5;129;01min\u001b[39;00m _registered_draw_types:\n\u001b[0;32m---> 43\u001b[0m     d \u001b[38;5;241m=\u001b[39m \u001b[43m_registered_draw_types\u001b[49m\u001b[43m[\u001b[49m\u001b[43mtyp\u001b[49m\u001b[43m]\u001b[49m\u001b[43m(\u001b[49m\u001b[38;5;28;43mself\u001b[39;49m\u001b[38;5;241;43m.\u001b[39;49m\u001b[43mobj\u001b[49m\u001b[43m,\u001b[49m\u001b[43m \u001b[49m\u001b[38;5;28;43mself\u001b[39;49m\u001b[38;5;241;43m.\u001b[39;49m\u001b[43margs\u001b[49m\u001b[43m,\u001b[49m\u001b[43m \u001b[49m\u001b[38;5;28;43mself\u001b[39;49m\u001b[38;5;241;43m.\u001b[39;49m\u001b[43mkwargs\u001b[49m\u001b[43m)\u001b[49m\n\u001b[1;32m     44\u001b[0m \u001b[38;5;28;01melse\u001b[39;00m:\n\u001b[1;32m     45\u001b[0m     \u001b[38;5;28;01mimport\u001b[39;00m \u001b[38;5;21;01minspect\u001b[39;00m\n",
      "File \u001b[0;32m/Applications/Netgen.app/Contents/Resources/lib/python3.8/site-packages/ngsolve/webgui.py:83\u001b[0m, in \u001b[0;36mGetData\u001b[0;34m(obj, args, kwargs)\u001b[0m\n\u001b[1;32m     81\u001b[0m \u001b[38;5;28;01mif\u001b[39;00m \u001b[38;5;124m'\u001b[39m\u001b[38;5;124mintpoints\u001b[39m\u001b[38;5;124m'\u001b[39m \u001b[38;5;129;01mnot\u001b[39;00m \u001b[38;5;129;01min\u001b[39;00m kwargs:\n\u001b[1;32m     82\u001b[0m     kwargs[\u001b[38;5;124m'\u001b[39m\u001b[38;5;124mintpoints\u001b[39m\u001b[38;5;124m'\u001b[39m]  \u001b[38;5;241m=\u001b[39m \u001b[38;5;28;01mNone\u001b[39;00m\n\u001b[0;32m---> 83\u001b[0m d \u001b[38;5;241m=\u001b[39m \u001b[43mBuildRenderData\u001b[49m\u001b[43m(\u001b[49m\u001b[43mmesh\u001b[49m\u001b[43m,\u001b[49m\u001b[43m \u001b[49m\u001b[43mcf\u001b[49m\u001b[43m,\u001b[49m\u001b[43m \u001b[49m\u001b[43morder\u001b[49m\u001b[38;5;241;43m=\u001b[39;49m\u001b[43mkwargs\u001b[49m\u001b[43m[\u001b[49m\u001b[38;5;124;43m'\u001b[39;49m\u001b[38;5;124;43morder\u001b[39;49m\u001b[38;5;124;43m'\u001b[39;49m\u001b[43m]\u001b[49m\u001b[43m,\u001b[49m\u001b[43m \u001b[49m\u001b[43mdraw_surf\u001b[49m\u001b[38;5;241;43m=\u001b[39;49m\u001b[43mkwargs\u001b[49m\u001b[43m[\u001b[49m\u001b[38;5;124;43m'\u001b[39;49m\u001b[38;5;124;43mdraw_surf\u001b[39;49m\u001b[38;5;124;43m'\u001b[39;49m\u001b[43m]\u001b[49m\u001b[43m,\u001b[49m\u001b[43m \u001b[49m\u001b[43mdraw_vol\u001b[49m\u001b[38;5;241;43m=\u001b[39;49m\u001b[43mkwargs\u001b[49m\u001b[43m[\u001b[49m\u001b[38;5;124;43m'\u001b[39;49m\u001b[38;5;124;43mdraw_vol\u001b[39;49m\u001b[38;5;124;43m'\u001b[39;49m\u001b[43m]\u001b[49m\u001b[43m,\u001b[49m\u001b[43m \u001b[49m\u001b[43mintpoints\u001b[49m\u001b[38;5;241;43m=\u001b[39;49m\u001b[43mkwargs\u001b[49m\u001b[43m[\u001b[49m\u001b[38;5;124;43m'\u001b[39;49m\u001b[38;5;124;43mintpoints\u001b[39;49m\u001b[38;5;124;43m'\u001b[39;49m\u001b[43m]\u001b[49m\u001b[43m,\u001b[49m\u001b[43m \u001b[49m\u001b[43mdeformation\u001b[49m\u001b[38;5;241;43m=\u001b[39;49m\u001b[43mkwargs\u001b[49m\u001b[43m[\u001b[49m\u001b[38;5;124;43m'\u001b[39;49m\u001b[38;5;124;43mdeformation\u001b[39;49m\u001b[38;5;124;43m'\u001b[39;49m\u001b[43m]\u001b[49m\u001b[43m,\u001b[49m\u001b[43m \u001b[49m\u001b[43mregions\u001b[49m\u001b[38;5;241;43m=\u001b[39;49m\u001b[43mregions\u001b[49m\u001b[43m,\u001b[49m\u001b[43m \u001b[49m\u001b[43mobjects\u001b[49m\u001b[38;5;241;43m=\u001b[39;49m\u001b[43mkwargs\u001b[49m\u001b[43m[\u001b[49m\u001b[38;5;124;43m'\u001b[39;49m\u001b[38;5;124;43mobjects\u001b[39;49m\u001b[38;5;124;43m'\u001b[39;49m\u001b[43m]\u001b[49m\u001b[43m,\u001b[49m\u001b[43m \u001b[49m\u001b[43mnodal_p1\u001b[49m\u001b[38;5;241;43m=\u001b[39;49m\u001b[43mkwargs\u001b[49m\u001b[43m[\u001b[49m\u001b[38;5;124;43m'\u001b[39;49m\u001b[38;5;124;43mnodal_p1\u001b[39;49m\u001b[38;5;124;43m'\u001b[39;49m\u001b[43m]\u001b[49m\u001b[43m,\u001b[49m\u001b[43m \u001b[49m\u001b[43msettings\u001b[49m\u001b[38;5;241;43m=\u001b[39;49m\u001b[43mkwargs\u001b[49m\u001b[43m[\u001b[49m\u001b[38;5;124;43m'\u001b[39;49m\u001b[38;5;124;43msettings\u001b[39;49m\u001b[38;5;124;43m'\u001b[39;49m\u001b[43m]\u001b[49m\u001b[43m)\u001b[49m\n\u001b[1;32m     85\u001b[0m \u001b[38;5;28;01mif\u001b[39;00m \u001b[38;5;28misinstance\u001b[39m(cf, ngs\u001b[38;5;241m.\u001b[39mGridFunction) \u001b[38;5;129;01mand\u001b[39;00m \u001b[38;5;28mlen\u001b[39m(cf\u001b[38;5;241m.\u001b[39mvecs)\u001b[38;5;241m>\u001b[39m\u001b[38;5;241m1\u001b[39m:\n\u001b[1;32m     86\u001b[0m     \u001b[38;5;66;03m# multidim gridfunction - generate data for each component\u001b[39;00m\n\u001b[1;32m     87\u001b[0m     gf \u001b[38;5;241m=\u001b[39m ngs\u001b[38;5;241m.\u001b[39mGridFunction(cf\u001b[38;5;241m.\u001b[39mspace)\n",
      "File \u001b[0;32m/Applications/Netgen.app/Contents/Resources/lib/python3.8/site-packages/ngsolve/webgui.py:317\u001b[0m, in \u001b[0;36mBuildRenderData\u001b[0;34m(mesh, func, order, draw_surf, draw_vol, intpoints, deformation, regions, objects, nodal_p1, encoding, settings)\u001b[0m\n\u001b[1;32m    315\u001b[0m timer2list\u001b[38;5;241m.\u001b[39mStart()        \n\u001b[1;32m    316\u001b[0m \u001b[38;5;28;01mfor\u001b[39;00m i \u001b[38;5;129;01min\u001b[39;00m \u001b[38;5;28mrange\u001b[39m(og\u001b[38;5;241m+\u001b[39m\u001b[38;5;241m1\u001b[39m):\n\u001b[0;32m--> 317\u001b[0m     Bezier_points\u001b[38;5;241m.\u001b[39mappend(\u001b[43mencode\u001b[49m\u001b[43m(\u001b[49m\u001b[43mBezierPnts\u001b[49m\u001b[43m[\u001b[49m\u001b[43mi\u001b[49m\u001b[43m]\u001b[49m\u001b[43m,\u001b[49m\u001b[43m \u001b[49m\u001b[43mdtype\u001b[49m\u001b[38;5;241;43m=\u001b[39;49m\u001b[43mnp\u001b[49m\u001b[38;5;241;43m.\u001b[39;49m\u001b[43mfloat32\u001b[49m\u001b[43m)\u001b[49m)\n\u001b[1;32m    318\u001b[0m timer2list\u001b[38;5;241m.\u001b[39mStop()        \n\u001b[1;32m    320\u001b[0m \u001b[38;5;28;01mif\u001b[39;00m func2 \u001b[38;5;129;01mand\u001b[39;00m draw_surf:\n",
      "File \u001b[0;32m/Applications/Netgen.app/Contents/Resources/lib/python3.8/site-packages/ngsolve/webgui.py:182\u001b[0m, in \u001b[0;36mBuildRenderData.<locals>.encode\u001b[0;34m(*args, **kwargs)\u001b[0m\n\u001b[1;32m    181\u001b[0m \u001b[38;5;28;01mdef\u001b[39;00m \u001b[38;5;21mencode\u001b[39m(\u001b[38;5;241m*\u001b[39margs, \u001b[38;5;241m*\u001b[39m\u001b[38;5;241m*\u001b[39mkwargs):\n\u001b[0;32m--> 182\u001b[0m     \u001b[38;5;28;01mreturn\u001b[39;00m \u001b[43mencodeData\u001b[49m\u001b[43m(\u001b[49m\u001b[38;5;241;43m*\u001b[39;49m\u001b[43margs\u001b[49m\u001b[43m,\u001b[49m\u001b[43m \u001b[49m\u001b[38;5;241;43m*\u001b[39;49m\u001b[38;5;241;43m*\u001b[39;49m\u001b[43mkwargs\u001b[49m\u001b[43m)\u001b[49m\n",
      "\u001b[0;31mTypeError\u001b[0m: encodeData() got an unexpected keyword argument 'dtype'"
     ]
    }
   ],
   "source": [
    "#---------------- meshing ------------------\n",
    "R = 1\n",
    "pz_down = 0.0\n",
    "cz_down = 0.75\n",
    "geo = CSGeometry()\n",
    "sph1 = Sphere(Pnt(0, 0, 0), R).bc(\"pz\")\n",
    "sph2 = Sphere(Pnt(0, 0, 0), R).bc(\"cz\")\n",
    "down = Plane(Pnt(0, 0, pz_down), Vec(0, 0, -1)).bc(\"down\")\n",
    "top = Plane(Pnt(0, 0, cz_down), Vec(0, 0, -1)).bc(\"top\")\n",
    "sph1down = sph1 * down\n",
    "sph2top = sph2 * top\n",
    "pt = sph1down - sph2top \n",
    "geo.AddSurface(sph1, pt)\n",
    "geo.AddSurface(down, pt)\n",
    "geo.AddSurface(sph2, sph2top)\n",
    "ngmesh = geo.GenerateMesh(maxh=0.1)\n",
    "mesh = Mesh(ngmesh)\n",
    "mesh.Curve(2)\n",
    "Draw(mesh)"
   ]
  },
  {
   "cell_type": "code",
   "execution_count": 3,
   "id": "dynamic-seeker",
   "metadata": {},
   "outputs": [],
   "source": [
    "#---------------- parameters ------------------\n",
    "Pi = np.pi\n",
    "v = 0.5\n",
    "pzofcz = 0.3\n",
    "Yg_cz = 1\n",
    "Pout = 1\n",
    "Yg = CoefficientFunction([ pzofcz * Yg_cz if bc == \"pz\" else Yg_cz for bc in mesh.GetBoundaries()])"
   ]
  },
  {
   "cell_type": "code",
   "execution_count": 5,
   "id": "gorgeous-barrel",
   "metadata": {},
   "outputs": [],
   "source": [
    "#---------------- FESpace ------------------      \n",
    "orderset = 2\n",
    "dimset = mesh.dim\n",
    "fes = H1(mesh, order=orderset,  dirichlet=\"down\", dim=dimset)\n",
    "u = fes.TrialFunction()\n",
    "nsurf = specialcf.normal(dimset)"
   ]
  },
  {
   "cell_type": "code",
   "execution_count": 6,
   "id": "naval-province",
   "metadata": {
    "scrolled": true
   },
   "outputs": [],
   "source": [
    "#-------------------- energy function --------------------------\n",
    "u_grad = grad(u).Trace()\n",
    "Eu = 1/2*(u_grad.trans * u_grad - Id(dimset))\n",
    "Cg = CoefficientFunction(((Yg,v*Yg,0),(Yg,v*Yg,0),(0,0,Yg*(v-1)/2)),dims=(dimset,dimset))\n",
    "Phi = Eu.trans * (Cg * Eu)\n",
    "ngradu = u_grad.trans * nsurf\n",
    "beta = Pout*nsurf\n",
    "a = BilinearForm(fes, symmetric=False, check_unused=False)\n",
    "a += Variation(Trace(Phi).Compile()*ds(definedon=fes.mesh.Boundaries(\"pz|cz\")))\n",
    "a += Variation((ngradu-beta)*(ngradu-beta)*ds(definedon=fes.mesh.Boundaries(\"pz|cz\")))"
   ]
  },
  {
   "cell_type": "code",
   "execution_count": 8,
   "id": "driven-prevention",
   "metadata": {},
   "outputs": [
    {
     "data": {
      "application/vnd.jupyter.widget-view+json": {
       "model_id": "e91cdca617d84ac595271e386a530209",
       "version_major": 2,
       "version_minor": 0
      },
      "text/plain": [
       "WebGuiWidget(layout=Layout(height='50vh', width='100%'), value={'gui_settings': {}, 'ngsolve_version': '6.2.24…"
      ]
     },
     "metadata": {},
     "output_type": "display_data"
    },
    {
     "data": {
      "text/plain": [
       "BaseWebGuiScene"
      ]
     },
     "execution_count": 8,
     "metadata": {},
     "output_type": "execute_result"
    }
   ],
   "source": [
    "#------------------- grid functions ---------------------\n",
    "u = GridFunction(fes)\n",
    "du = GridFunction(fes)\n",
    "res = u.vec.CreateVector()\n",
    "ini = CoefficientFunction([sin(x**2*y**2)*(z-pz_down)*(cz_down-z)*nsurf if bc == \"pz\" else\n",
    "                           (z-cz_down)*(R-z)*nsurf for bc in mesh.GetBoundaries()])\n",
    "u.Set(ini,definedon=fes.mesh.Boundaries(\"pz|cz\"))\n",
    "Draw(u, mesh, 'displacement')"
   ]
  },
  {
   "cell_type": "code",
   "execution_count": 9,
   "id": "organized-amendment",
   "metadata": {},
   "outputs": [
    {
     "name": "stdout",
     "output_type": "stream",
     "text": [
      "Damped Newton iteration 1\n",
      "  energy =  7.213842822814954\n",
      "  err^2 = 0.004016295918957715\n",
      "Damped Newton iteration 2\n",
      "  energy =  7.215814177328648\n",
      "  err^2 = 1.8806633994027033e-06\n",
      "Damped Newton iteration 3\n",
      "  energy =  7.215815117445124\n",
      "  err^2 = 4.069581674343578e-14\n"
     ]
    }
   ],
   "source": [
    "#------------------- damped Newton ---------------------\n",
    "step = 1\n",
    "for i in range(50):\n",
    "   print (\"Damped Newton iteration\", i+1)\n",
    "   print (\"  energy = \", a.Energy(u.vec))\n",
    "   a.Apply(u.vec, res) \n",
    "   a.AssembleLinearization(u.vec)\n",
    "   du.vec.data = a.mat.Inverse(fes.FreeDofs()) * res\n",
    "   r =  InnerProduct(du.vec, res)\n",
    "   print (\"  err^2 =\", abs(r))\n",
    "   u.vec.data -= step * du.vec.data\n",
    "   if abs(r) < 1e-6:\n",
    "       break"
   ]
  },
  {
   "cell_type": "code",
   "execution_count": 16,
   "id": "legitimate-palmer",
   "metadata": {},
   "outputs": [
    {
     "name": "stdout",
     "output_type": "stream",
     "text": [
      "coef N6ngcomp31GridFunctionCoefficientFunctionE, real, dims = 3 x 3\n",
      "\n"
     ]
    }
   ],
   "source": [
    "#------------------- Stress data ---------------------  \n",
    "u_grad = grad(u).Trace()\n",
    "Eu = 1/2*(u_grad.trans * u_grad - Id(dimset))\n",
    "print(u_grad)"
   ]
  }
 ],
 "metadata": {
  "kernelspec": {
   "display_name": "Python 3",
   "language": "python",
   "name": "python3"
  },
  "language_info": {
   "codemirror_mode": {
    "name": "ipython",
    "version": 3
   },
   "file_extension": ".py",
   "mimetype": "text/x-python",
   "name": "python",
   "nbconvert_exporter": "python",
   "pygments_lexer": "ipython3",
   "version": "3.8.7"
  }
 },
 "nbformat": 4,
 "nbformat_minor": 5
}
