{
 "cells": [
  {
   "cell_type": "code",
   "execution_count": 1,
   "id": "oriented-structure",
   "metadata": {},
   "outputs": [
    {
     "name": "stdout",
     "output_type": "stream",
     "text": [
      "optfile ./ng.opt does not exist - using default values\n",
      "togl-version : 2\n",
      "OCC module loaded\n",
      "loading ngsolve library\n",
      "NGSolve-6.2.2304\n",
      "Using Lapack\n",
      "Including sparse direct solver UMFPACK\n",
      "Running parallel using 10 thread(s)\n"
     ]
    },
    {
     "name": "stderr",
     "output_type": "stream",
     "text": [
      "2024-09-26 22:31:53.243 Python[48171:1387359] CGSSetSurfaceColorSpace failed - error 1000 (windowID:15240)\n",
      "2024-09-26 22:31:53.243 Python[48171:1387359] CGSSetSurfaceColorSpace failed - error 1000 (windowID:15240)\n",
      "2024-09-26 22:31:53.354 Python[48171:1387359] +[IMKClient subclass]: chose IMKClient_Legacy\n",
      "2024-09-26 22:31:53.355 Python[48171:1387359] +[IMKInputSession subclass]: chose IMKInputSession_Legacy\n"
     ]
    }
   ],
   "source": [
    "import netgen.gui\n",
    "from ngsolve import *\n",
    "from ngsolve.internal import visoptions\n",
    "from netgen.meshing import ImportMesh"
   ]
  },
  {
   "cell_type": "code",
   "execution_count": 2,
   "id": "joint-parker",
   "metadata": {},
   "outputs": [],
   "source": [
    "ngmesh = ImportMesh('cell_mesh_R1_opt.mesh')"
   ]
  },
  {
   "cell_type": "code",
   "execution_count": 3,
   "id": "inside-conviction",
   "metadata": {},
   "outputs": [],
   "source": [
    "from netgen.meshing import FaceDescriptor\n",
    "isinplane = lambda el: all((((ngmesh[v][2] < -27)) for v in el.vertices))\n",
    "fd_id = ngmesh.Add(FaceDescriptor(surfnr=2,domin=1,domout=0,bc=2))\n",
    "for el in ngmesh.Elements2D():\n",
    "    if isinplane(el):\n",
    "        el.index = fd_id\n",
    "    else:\n",
    "        el.index = fd_id-1\n",
    "ngmesh.SetBCName(fd_id-1, \"bottom\")\n",
    "ngmesh.SetBCName(fd_id-2, \"surface\")"
   ]
  },
  {
   "cell_type": "code",
   "execution_count": 4,
   "id": "marked-narrow",
   "metadata": {},
   "outputs": [],
   "source": [
    "mesh = Mesh(ngmesh)\n",
    "Draw(mesh)"
   ]
  },
  {
   "cell_type": "code",
   "execution_count": 298,
   "id": "exceptional-geography",
   "metadata": {},
   "outputs": [],
   "source": [
    "#---------------- parameters ------------------\n",
    "import numpy as np\n",
    "Pi = np.pi\n",
    "orderset = 2\n",
    "dimset = mesh.dim\n",
    "v = 0.5\n",
    "Yg = (sqrt(x**2+y**2+z**2))**(-1)\n",
    "Pout = 30\n",
    "pz = -27\n",
    "cz = 16\n",
    "thick = 0.5\n",
    "G =  Pout/Integrate(thick,mesh,BND)\n",
    "Yf = 300\n",
    "rho1 = Yf * cos(x**2+y**2)\n",
    "rho2 = Yf * cos(x**2+y**2)\n",
    "rho3 = Yf * cos(x**2+y**2)"
   ]
  },
  {
   "cell_type": "code",
   "execution_count": 299,
   "id": "retained-review",
   "metadata": {},
   "outputs": [],
   "source": [
    "fes = H1(mesh, order=orderset,  dirichlet=\"bottom\", dim=dimset)\n",
    "u = fes.TrialFunction()\n",
    "nsurf = - specialcf.normal(dimset)"
   ]
  },
  {
   "cell_type": "code",
   "execution_count": 300,
   "id": "advisory-pottery",
   "metadata": {},
   "outputs": [],
   "source": [
    "u_grad = grad(u).Trace()\n",
    "Eu = 1/2*(u_grad.trans * u_grad - Id(dimset))\n",
    "Cg = CoefficientFunction(((Yg,v*Yg,0),(Yg,v*Yg,0),(0,0,Yg*(v-1)/2)),dims=(dimset,dimset))\n",
    "Cf = CoefficientFunction(((rho1,rho2,0),(rho2,rho1,0),(0,0,rho3)),dims=(dimset,dimset))\n",
    "C = Cg \n",
    "ngradu = u_grad.trans * nsurf\n",
    "beta = Pout*nsurf\n",
    "Phi = Eu.trans * (C * Eu)\n",
    "a = BilinearForm(fes, symmetric=False)\n",
    "a += Variation(Trace(Phi).Compile()*ds)\n",
    "a += Variation((ngradu-beta)*(ngradu-beta)*ds)"
   ]
  },
  {
   "cell_type": "code",
   "execution_count": 301,
   "id": "thrown-camera",
   "metadata": {},
   "outputs": [],
   "source": [
    "u = GridFunction(fes)\n",
    "du = GridFunction(fes)\n",
    "res = u.vec.CreateVector()\n",
    "potensial = G*(z-pz)*(z-cz)*nsurf \n",
    "ini = CoefficientFunction([potensial if bc == 'surface' else (0,0,0) for bc in mesh.GetBoundaries()])\n",
    "u.Set(ini,definedon=fes.mesh.Boundaries(\"surface|bottom\"))\n",
    "Draw(u, mesh, 'disp')"
   ]
  },
  {
   "cell_type": "code",
   "execution_count": 302,
   "id": "guilty-limit",
   "metadata": {},
   "outputs": [
    {
     "name": "stdout",
     "output_type": "stream",
     "text": [
      "Damped Newton iteration 1\n",
      "  energy =  22679839.99445434\n",
      "  err^2 = 0.5711997917756256\n",
      "Damped Newton iteration 2\n",
      "  energy =  22679840.00013771\n",
      "  err^2 = 0.5596260409858544\n",
      "Damped Newton iteration 3\n",
      "  energy =  22679840.00570609\n",
      "  err^2 = 0.5482909062521378\n",
      "Damped Newton iteration 4\n",
      "  energy =  22679840.011161484\n",
      "  err^2 = 0.5371893006258609\n",
      "Damped Newton iteration 5\n",
      "  energy =  22679840.016506705\n",
      "  err^2 = 0.526316252595054\n",
      "Damped Newton iteration 6\n",
      "  energy =  22679840.021743514\n",
      "  err^2 = 0.5156669031631562\n",
      "Damped Newton iteration 7\n",
      "  energy =  22679840.02687435\n",
      "  err^2 = 0.5052365030152323\n",
      "Damped Newton iteration 8\n",
      "  energy =  22679840.031901434\n",
      "  err^2 = 0.49502040976839534\n",
      "Damped Newton iteration 9\n",
      "  energy =  22679840.03682692\n",
      "  err^2 = 0.4850140853033471\n",
      "Damped Newton iteration 10\n",
      "  energy =  22679840.041652802\n",
      "  err^2 = 0.47521309317405225\n"
     ]
    }
   ],
   "source": [
    "step = 1e-2\n",
    "for i in range(10):\n",
    "   print (\"Damped Newton iteration\", i+1)\n",
    "   print (\"  energy = \", a.Energy(u.vec))\n",
    "   a.Apply(u.vec, res) \n",
    "   a.AssembleLinearization(u.vec)\n",
    "   du.vec.data = a.mat.Inverse(fes.FreeDofs()) * res\n",
    "   r =  InnerProduct(du.vec, res)\n",
    "   print (\"  err^2 =\", abs(r))\n",
    "   u.vec.data -= step * du.vec.data\n",
    "   Draw(u, mesh, 'disp')\n",
    "   if abs(r) < 1e-6:\n",
    "       break"
   ]
  },
  {
   "cell_type": "code",
   "execution_count": null,
   "id": "supported-berlin",
   "metadata": {},
   "outputs": [],
   "source": []
  },
  {
   "cell_type": "code",
   "execution_count": null,
   "id": "median-villa",
   "metadata": {},
   "outputs": [],
   "source": []
  }
 ],
 "metadata": {
  "kernelspec": {
   "display_name": "Python 3",
   "language": "python",
   "name": "python3"
  },
  "language_info": {
   "codemirror_mode": {
    "name": "ipython",
    "version": 3
   },
   "file_extension": ".py",
   "mimetype": "text/x-python",
   "name": "python",
   "nbconvert_exporter": "python",
   "pygments_lexer": "ipython3",
   "version": "3.8.7"
  }
 },
 "nbformat": 4,
 "nbformat_minor": 5
}
