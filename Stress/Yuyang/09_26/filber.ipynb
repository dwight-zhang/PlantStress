{
 "cells": [
  {
   "cell_type": "code",
   "execution_count": 1,
   "id": "afac0038-8ec8-4d2e-9633-2a23b9337858",
   "metadata": {},
   "outputs": [
    {
     "name": "stdout",
     "output_type": "stream",
     "text": [
      "optfile ./ng.opt does not exist - using default values\n",
      "togl-version : 2\n",
      "OCC module loaded\n",
      "loading ngsolve library\n",
      "NGSolve-6.2.2403\n",
      "Using Lapack\n",
      "Including sparse direct solver UMFPACK\n",
      "Running parallel using 20 thread(s)\n"
     ]
    }
   ],
   "source": [
    "#---------------- import ------------------\n",
    "from ngsolve import *\n",
    "from netgen.csg import *\n",
    "import netgen.gui\n",
    "from netgen.meshing import ImportMesh\n",
    "from netgen.meshing import FaceDescriptor\n",
    "import numpy as np\n",
    "from scipy.integrate import quad"
   ]
  },
  {
   "cell_type": "code",
   "execution_count": 2,
   "id": "0aa7d5d0-4f62-4f0f-a4a8-fdca781cf680",
   "metadata": {},
   "outputs": [
    {
     "name": "stdout",
     "output_type": "stream",
     "text": [
      " Start Findpoints\n",
      " Analyze spec points\n",
      " Find edges\n",
      " Start Findpoints\n",
      " Analyze spec points\n",
      " Find edges\n",
      " Start Findpoints\n",
      " Analyze spec points\n",
      " Find edges\n",
      " Surface 1 / 3\n",
      " Optimize Surface\n",
      " Surface 2 / 3\n",
      " Optimize Surface\n",
      " Surface 3 / 3\n",
      " Optimize Surface\n",
      " Volume Optimization\n",
      " Curve elements, order = 2\n"
     ]
    }
   ],
   "source": [
    "#---------------- meshing ------------------\n",
    "geo = CSGeometry()\n",
    "sph = Sphere(Pnt(0, 0, 0.2), 1).bc(\"sph\")\n",
    "down = Plane(Pnt(0, 0, 0), Vec(0, 0, -1)).bc(\"down\")\n",
    "top = Plane(Pnt(0, 0, 1.1), Vec(0, 0, -1)).bc(\"top\")\n",
    "sphtop = sph * top\n",
    "sphdown = sph * down\n",
    "pt = sphdown - sphtop \n",
    "geo.AddSurface(sph, pt)\n",
    "geo.AddSurface(down, pt)\n",
    "geo.AddSurface(top, pt)\n",
    "ngmesh = geo.GenerateMesh(maxh=0.08)\n",
    "mesh = Mesh(ngmesh)\n",
    "mesh.Curve(2)\n",
    "Draw(mesh)"
   ]
  },
  {
   "cell_type": "code",
   "execution_count": 3,
   "id": "947ae8c9-2b6c-418b-af38-ec685942e162",
   "metadata": {},
   "outputs": [],
   "source": [
    "#---------------- parameters ------------------\n",
    "Pi = np.pi\n",
    "orderset = 2\n",
    "dimset = mesh.dim\n",
    "k1 = 1\n",
    "k2 = 1.5\n",
    "k3 = 1\n",
    "gam = 1\n",
    "def f(theta):\n",
    "  return np.sin(10*Pi*theta)\n",
    "f0, _ = quad(lambda theta: f(theta), 0, Pi)\n",
    "def intf1(theta):\n",
    "  return f(theta) * np.exp(-2j * theta)\n",
    "f1r, _ = quad(lambda theta: intf1(theta).real, 0, Pi)\n",
    "f1i, _ = quad(lambda theta: intf1(theta).imag, 0, Pi)\n",
    "f1a = np.sqrt(f1r*2 + f1i*2)\n",
    "def intI0(theta,x):\n",
    "  return np.exp(x*np.cos(theta))\n",
    "def intI1(theta,x):\n",
    "  return cos(theta) * np.exp(x*np.cos(theta))\n",
    "I0, _ = quad(lambda theta: intI0(theta,2*gam*f1a), 0, Pi)\n",
    "I1, _ = quad(lambda theta: intI1(theta,2*gam*f1a), 0, Pi)\n",
    "phi0 = 1/Pi * I1 / (np.exp(-gam * I0) / Pi / k3 + I0)"
   ]
  },
  {
   "cell_type": "code",
   "execution_count": 24,
   "id": "10d54a95-429d-4544-bb8a-c07917a07d97",
   "metadata": {},
   "outputs": [
    {
     "name": "stdout",
     "output_type": "stream",
     "text": [
      "0.08857352591641336\n"
     ]
    }
   ],
   "source": [
    "print(phi0)"
   ]
  }
 ],
 "metadata": {
  "kernelspec": {
   "display_name": "Python 3 (ipykernel)",
   "language": "python",
   "name": "python3"
  },
  "language_info": {
   "codemirror_mode": {
    "name": "ipython",
    "version": 3
   },
   "file_extension": ".py",
   "mimetype": "text/x-python",
   "name": "python",
   "nbconvert_exporter": "python",
   "pygments_lexer": "ipython3",
   "version": "3.10.12"
  }
 },
 "nbformat": 4,
 "nbformat_minor": 5
}
