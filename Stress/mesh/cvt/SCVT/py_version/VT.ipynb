{
 "cells": [
  {
   "cell_type": "code",
   "execution_count": 1,
   "metadata": {},
   "outputs": [],
   "source": [
    "import numpy as np"
   ]
  },
  {
   "cell_type": "code",
   "execution_count": 2,
   "metadata": {},
   "outputs": [
    {
     "name": "stdout",
     "output_type": "stream",
     "text": [
      "Number of Generators = 162\n"
     ]
    }
   ],
   "source": [
    "def read_number_of_generators(file_name):\n",
    "    # Reading the number of generators from the uploaded 'scvt.in' file\n",
    "    with open(file_name, 'r') as file:\n",
    "        file.readline()  # Skip the first line\n",
    "        n = int(file.readline().strip())\n",
    "    print(f'Number of Generators = {n}')\n",
    "    return n\n",
    "\n",
    "def allocate_memory(n):\n",
    "    # Allocating memory for the coordinates array (3D coordinates for each generator)\n",
    "    return np.zeros((3, n))\n",
    "\n",
    "def set_random_seed(seed=None):\n",
    "    # Set the random seed for reproducibility\n",
    "    np.random.seed(seed)\n",
    "\n",
    "def get_max_density(max_test=10000):\n",
    "    # Placeholder for the function to find the maximum density\n",
    "    # Assuming a uniform distribution for simplicity here\n",
    "    return 1.0\n",
    "\n",
    "def random_generator(dens_max):\n",
    "    # Generate random coordinates based on density (simplified)\n",
    "    return np.random.random(3) * dens_max\n",
    "\n",
    "def write_coordinates_to_file(coords, file_name='scvt_mc.dat'):\n",
    "    # Writing the generated coordinates to a file\n",
    "    n = coords.shape[1]\n",
    "    with open(file_name, 'w') as file:\n",
    "        file.write(f\"{n}\\n\")\n",
    "        for node in range(n):\n",
    "            file.write(f\"{node + 1} {coords[0, node]:.6f} {coords[1, node]:.6f} {coords[2, node]:.6f}\\n\")\n",
    "\n",
    "def main():\n",
    "    # Main function replicating the Fortran code functionality\n",
    "\n",
    "    # Step 1: Read the number of generators\n",
    "    n = read_number_of_generators('/Users/cuibofei/plant_dev/PlantStress/Stress/mesh/cvt/SCVT/scvt.in')\n",
    "\n",
    "    # Step 2: Allocate memory for the coordinates\n",
    "    nodes_crd = allocate_memory(n)\n",
    "\n",
    "    # Step 3: Set the random seed\n",
    "    set_random_seed(seed=0)  # Using seed=0 for reproducibility\n",
    "\n",
    "    # Step 4: Get the maximum density\n",
    "    dens_max = get_max_density()\n",
    "\n",
    "    # Step 5: Generate coordinates using the Monte Carlo method\n",
    "    for node in range(n):\n",
    "        nodes_crd[:, node] = random_generator(dens_max)\n",
    "\n",
    "    # Step 6: Write the coordinates to file\n",
    "    write_coordinates_to_file(nodes_crd)\n",
    "\n",
    "# Running the main function to simulate the process\n",
    "main()"
   ]
  },
  {
   "cell_type": "code",
   "execution_count": 3,
   "metadata": {},
   "outputs": [],
   "source": [
    "# Reading the configuration and initial coordinates from files\n",
    "def read_config(file_name='scvt.in'):\n",
    "    with open(file_name, 'r') as file:\n",
    "        file.readline()  # Skip the first line\n",
    "        ntemp = int(file.readline().strip())\n",
    "        # print(f\"Number of temperature values = {ntemp}\")\n",
    "        file.readline()\n",
    "        max_iter = int(file.readline().strip())\n",
    "\n",
    "        file.readline()\n",
    "        eps = float(file.readline().strip())\n",
    "\n",
    "        file.readline() \n",
    "        ip = int(file.readline().strip())\n",
    "\n",
    "        file.readline() \n",
    "        istride = int(file.readline().strip())\n",
    "    return ntemp, max_iter, eps, ip, istride\n",
    "\n",
    "def read_initial_coordinates(file_name='scvt_s.dat', nmax=100000):\n",
    "    x, y, z = [], [], []\n",
    "    with open(file_name, 'r') as file:\n",
    "        n = int(file.readline().strip())\n",
    "        if n >= nmax:\n",
    "            raise ValueError(f\"The number of generators must be less than {nmax}\")\n",
    "        for _ in range(n):\n",
    "            _, x_val, y_val, z_val = map(float, file.readline().split())\n",
    "            x.append(x_val)\n",
    "            y.append(y_val)\n",
    "            z.append(z_val)\n",
    "    return n, np.array(x), np.array(y), np.array(z)\n",
    "\n",
    "def lloyd_algorithm(n, x, y, z, max_iter, eps, istride, ip):\n",
    "    # If the North or South pole is fixed, adjust the pole node\n",
    "    indx = None\n",
    "    if ip != 0:\n",
    "        distmin = 1000000.0\n",
    "        for node in range(n):\n",
    "            dist = abs(x[node]) + abs(y[node]) + abs(z[node] - ip * 1.0)\n",
    "            if dist < distmin:\n",
    "                distmin = dist\n",
    "                indx = node\n",
    "        x[indx], y[indx], z[indx] = 0.0, 0.0, ip * 1.0\n",
    "        print(\"The North Pole is fixed!\")\n",
    "\n",
    "    for iloop in range(1, max_iter + 1):\n",
    "        if (iloop - 1) % istride == 0:\n",
    "            print(f\"A re-triangulation is done in iteration {iloop}!\")\n",
    "            # Placeholder for re-triangulation (grid function)\n",
    "\n",
    "        # Lloyd's algorithm main loop\n",
    "        dm_LI, dm_L2 = 0.0, 0.0\n",
    "        for node in range(n):\n",
    "            # Update the node's position (simplified for demonstration)\n",
    "            centroid_x, centroid_y, centroid_z = np.mean([x, y, z], axis=1)\n",
    "            new_pos = np.array([centroid_x, centroid_y, centroid_z]) / np.linalg.norm([centroid_x, centroid_y, centroid_z])\n",
    "\n",
    "            # Compute distance moved\n",
    "            dm = np.linalg.norm(np.array([x[node], y[node], z[node]]) - new_pos)\n",
    "            dm_L2 += dm ** 2\n",
    "            if dm > dm_LI:\n",
    "                dm_LI = dm\n",
    "\n",
    "            # Update positions\n",
    "            if node != indx:  # Don't move fixed node\n",
    "                x[node], y[node], z[node] = new_pos\n",
    "\n",
    "        dm_L2 = np.sqrt(dm_L2 / n)\n",
    "        if dm_LI < eps:\n",
    "            break\n",
    "\n",
    "    return x, y, z, iloop, dm_LI\n",
    "\n",
    "def write_final_coordinates(x, y, z, file_name='scvt_lloyd.dat'):\n",
    "    n = len(x)\n",
    "    with open(file_name, 'w') as file:\n",
    "        file.write(f\"{n}\\n\")\n",
    "        for node in range(n):\n",
    "            file.write(f\"{node + 1:10d} {x[node]:16.10f} {y[node]:16.10f} {z[node]:16.10f}\\n\")\n",
    "    print(\"Final coordinates written to 'scvt_lloyd.dat'.\")\n",
    "\n"
   ]
  },
  {
   "cell_type": "code",
   "execution_count": null,
   "metadata": {},
   "outputs": [],
   "source": [
    "def main():\n",
    "    # Step 1: Read config from 'scvt.in'\n",
    "    ntemp, max_iter, eps, ip, istride = read_config(file_name='/Users/cuibofei/plant_dev/PlantStress/Stress/mesh/cvt/SCVT/scvt.in')\n",
    "\n",
    "    # Step 2: Read initial generator coordinates from 'scvt_s.dat'\n",
    "    n, x, y, z = read_initial_coordinates(file_name='/Users/cuibofei/plant_dev/PlantStress/Stress/mesh/cvt/SCVT/py_version/scvt_s.dat')\n",
    "\n",
    "    # Step 3: Run Lloyd's algorithm\n",
    "    x, y, z, iloop, dm_LI = lloyd_algorithm(n, x, y, z, max_iter, eps, istride, ip)\n",
    "\n",
    "    # Step 4: Write final coordinates to file\n",
    "    write_final_coordinates(x, y, z)\n",
    "\n",
    "# Running the main function to simulate Lloyd's algorithm\n",
    "main()"
   ]
  },
  {
   "cell_type": "code",
   "execution_count": 20,
   "metadata": {},
   "outputs": [
    {
     "name": "stdout",
     "output_type": "stream",
     "text": [
      "Iteration 799: Max displacement = 4.974619881046405e+45\n",
      "Iteration 800: Retriangulation done.\n",
      "Iteration 800: Max displacement = 1.85894977650635e+45\n",
      "Iteration 801: Retriangulation done.\n",
      "Iteration 801: Max displacement = 1.6195136089348342e+45\n",
      "Iteration 802: Retriangulation done.\n",
      "Iteration 802: Max displacement = 1.950784118212533e+45\n",
      "Iteration 803: Retriangulation done.\n",
      "Iteration 803: Max displacement = 3.1352521298193973e+45\n",
      "Iteration 804: Retriangulation done.\n",
      "Iteration 804: Max displacement = 6.461780149294169e+45\n",
      "Iteration 805: Retriangulation done.\n",
      "Iteration 805: Max displacement = 1.6600587775915905e+46\n",
      "Iteration 806: Retriangulation done.\n",
      "Iteration 806: Max displacement = 2.6580950049714313e+46\n",
      "Iteration 807: Retriangulation done.\n",
      "Iteration 807: Max displacement = 5.589190045689611e+45\n",
      "Iteration 808: Retriangulation done.\n",
      "Iteration 808: Max displacement = 2.8641117805150533e+46\n",
      "Iteration 809: Retriangulation done.\n",
      "Iteration 809: Max displacement = 1.1833327482539142e+46\n",
      "Iteration 810: Retriangulation done.\n",
      "Iteration 810: Max displacement = 5.849494857004221e+45\n",
      "Iteration 811: Retriangulation done.\n",
      "Iteration 811: Max displacement = 6.382423755059193e+45\n",
      "Iteration 812: Retriangulation done.\n",
      "Iteration 812: Max displacement = 1.0170520617753701e+46\n",
      "Iteration 813: Retriangulation done.\n",
      "Iteration 813: Max displacement = 1.792478423626676e+46\n",
      "Iteration 814: Retriangulation done.\n",
      "Iteration 814: Max displacement = 1.7567701290397691e+46\n",
      "Iteration 815: Retriangulation done.\n",
      "Iteration 815: Max displacement = 1.152739515854163e+46\n",
      "Iteration 816: Retriangulation done.\n",
      "Iteration 816: Max displacement = 1.1542489848546683e+46\n",
      "Iteration 817: Retriangulation done.\n",
      "Iteration 817: Max displacement = 6.80707436571364e+45\n",
      "Iteration 818: Retriangulation done.\n",
      "Iteration 818: Max displacement = 4.816459554410096e+45\n",
      "Iteration 819: Retriangulation done.\n",
      "Iteration 819: Max displacement = 9.943847982510426e+45\n",
      "Iteration 820: Retriangulation done.\n",
      "Iteration 820: Max displacement = 6.184033251686664e+45\n",
      "Iteration 821: Retriangulation done.\n",
      "Iteration 821: Max displacement = 8.517565041508197e+45\n",
      "Iteration 822: Retriangulation done.\n",
      "Iteration 822: Max displacement = 1.4633111195835032e+46\n",
      "Iteration 823: Retriangulation done.\n",
      "Iteration 823: Max displacement = 1.4601778994201471e+46\n",
      "Iteration 824: Retriangulation done.\n",
      "Iteration 824: Max displacement = 7.628586090660405e+45\n",
      "Iteration 825: Retriangulation done.\n",
      "Iteration 825: Max displacement = 1.501775672809309e+46\n",
      "Iteration 826: Retriangulation done.\n",
      "Iteration 826: Max displacement = 1.270773485774796e+46\n",
      "Iteration 827: Retriangulation done.\n",
      "Iteration 827: Max displacement = 3.1168966131393177e+46\n",
      "Iteration 828: Retriangulation done.\n",
      "Iteration 828: Max displacement = 1.164423966497298e+46\n",
      "Iteration 829: Retriangulation done.\n",
      "Iteration 829: Max displacement = 3.183956944796487e+46\n",
      "Iteration 830: Retriangulation done.\n",
      "Iteration 830: Max displacement = 6.739963001117366e+46\n",
      "Iteration 831: Retriangulation done.\n",
      "Iteration 831: Max displacement = 6.371789683945615e+46\n",
      "Iteration 832: Retriangulation done.\n",
      "Iteration 832: Max displacement = 2.5654625865588617e+46\n",
      "Iteration 833: Retriangulation done.\n",
      "Iteration 833: Max displacement = 4.633739107939248e+47\n",
      "Iteration 834: Retriangulation done.\n",
      "Iteration 834: Max displacement = 4.6120133843678355e+47\n",
      "Iteration 835: Retriangulation done.\n",
      "Iteration 835: Max displacement = 1.9976530722499523e+47\n",
      "Iteration 836: Retriangulation done.\n",
      "Iteration 836: Max displacement = 6.516653892651348e+46\n",
      "Iteration 837: Retriangulation done.\n",
      "Iteration 837: Max displacement = 8.837489384131942e+47\n",
      "Iteration 838: Retriangulation done.\n",
      "Iteration 838: Max displacement = 3.675107098538334e+47\n",
      "Iteration 839: Retriangulation done.\n",
      "Iteration 839: Max displacement = 3.8554235807259154e+47\n",
      "Iteration 840: Retriangulation done.\n",
      "Iteration 840: Max displacement = 1.005920047104742e+48\n",
      "Iteration 841: Retriangulation done.\n",
      "Iteration 841: Max displacement = 2.180181294802396e+48\n",
      "Iteration 842: Retriangulation done.\n",
      "Iteration 842: Max displacement = 7.888339639058627e+47\n",
      "Iteration 843: Retriangulation done.\n",
      "Iteration 843: Max displacement = 2.0596466685322763e+48\n",
      "Iteration 844: Retriangulation done.\n",
      "Iteration 844: Max displacement = 2.1742040494942918e+48\n",
      "Iteration 845: Retriangulation done.\n",
      "Iteration 845: Max displacement = 8.6173086846585e+48\n",
      "Iteration 846: Retriangulation done.\n",
      "Iteration 846: Max displacement = 2.4201139586073624e+48\n",
      "Iteration 847: Retriangulation done.\n",
      "Iteration 847: Max displacement = 6.21338502919926e+48\n",
      "Iteration 848: Retriangulation done.\n",
      "Iteration 848: Max displacement = 7.11466604724375e+48\n",
      "Iteration 849: Retriangulation done.\n",
      "Iteration 849: Max displacement = 5.645046278668826e+48\n",
      "Iteration 850: Retriangulation done.\n",
      "Iteration 850: Max displacement = 3.889804377653368e+48\n",
      "Iteration 851: Retriangulation done.\n",
      "Iteration 851: Max displacement = 9.824324209571519e+48\n",
      "Iteration 852: Retriangulation done.\n",
      "Iteration 852: Max displacement = 1.131122627393052e+49\n",
      "Iteration 853: Retriangulation done.\n",
      "Iteration 853: Max displacement = 1.0014066061828472e+49\n",
      "Iteration 854: Retriangulation done.\n",
      "Iteration 854: Max displacement = 4.7136927984292476e+48\n",
      "Iteration 855: Retriangulation done.\n",
      "Iteration 855: Max displacement = 4.0357469491722996e+48\n",
      "Iteration 856: Retriangulation done.\n",
      "Iteration 856: Max displacement = 5.731683228213082e+48\n",
      "Iteration 857: Retriangulation done.\n",
      "Iteration 857: Max displacement = 6.982973338187404e+48\n",
      "Iteration 858: Retriangulation done.\n",
      "Iteration 858: Max displacement = 8.469069214149365e+48\n",
      "Iteration 859: Retriangulation done.\n",
      "Iteration 859: Max displacement = 4.392893958997925e+48\n",
      "Iteration 860: Retriangulation done.\n",
      "Iteration 860: Max displacement = 3.6170563558832834e+49\n",
      "Iteration 861: Retriangulation done.\n",
      "Iteration 861: Max displacement = 3.6493600113344917e+49\n",
      "Iteration 862: Retriangulation done.\n",
      "Iteration 862: Max displacement = 1.372563940177966e+49\n",
      "Iteration 863: Retriangulation done.\n",
      "Iteration 863: Max displacement = 1.1011336750598849e+49\n",
      "Iteration 864: Retriangulation done.\n",
      "Iteration 864: Max displacement = 7.971833533758268e+48\n",
      "Iteration 865: Retriangulation done.\n",
      "Iteration 865: Max displacement = 1.2929832710700322e+49\n",
      "Iteration 866: Retriangulation done.\n",
      "Iteration 866: Max displacement = 6.62274374417164e+48\n",
      "Iteration 867: Retriangulation done.\n",
      "Iteration 867: Max displacement = 8.662127313870711e+48\n",
      "Iteration 868: Retriangulation done.\n",
      "Iteration 868: Max displacement = 4.707266596704445e+49\n",
      "Iteration 869: Retriangulation done.\n",
      "Iteration 869: Max displacement = 1.3410754367414602e+49\n",
      "Iteration 870: Retriangulation done.\n",
      "Iteration 870: Max displacement = 4.0765051543258663e+49\n",
      "Iteration 871: Retriangulation done.\n",
      "Iteration 871: Max displacement = 3.101427782200586e+49\n",
      "Iteration 872: Retriangulation done.\n",
      "Iteration 872: Max displacement = 4.129082781141122e+49\n",
      "Iteration 873: Retriangulation done.\n",
      "Iteration 873: Max displacement = 1.872577528114781e+49\n",
      "Iteration 874: Retriangulation done.\n",
      "Iteration 874: Max displacement = 1.7606671630778142e+49\n",
      "Iteration 875: Retriangulation done.\n",
      "Iteration 875: Max displacement = 2.478729143894716e+49\n",
      "Iteration 876: Retriangulation done.\n",
      "Iteration 876: Max displacement = 4.252107138676409e+49\n",
      "Iteration 877: Retriangulation done.\n",
      "Iteration 877: Max displacement = 3.3273045637982107e+49\n",
      "Iteration 878: Retriangulation done.\n",
      "Iteration 878: Max displacement = 2.1775424426820153e+49\n",
      "Iteration 879: Retriangulation done.\n",
      "Iteration 879: Max displacement = 2.124071315346424e+49\n",
      "Iteration 880: Retriangulation done.\n",
      "Iteration 880: Max displacement = 1.9911606730750304e+49\n",
      "Iteration 881: Retriangulation done.\n",
      "Iteration 881: Max displacement = 3.4203975264568923e+50\n",
      "Iteration 882: Retriangulation done.\n",
      "Iteration 882: Max displacement = 3.3450586926659117e+50\n",
      "Iteration 883: Retriangulation done.\n",
      "Iteration 883: Max displacement = 1.3443925438551002e+50\n",
      "Iteration 884: Retriangulation done.\n",
      "Iteration 884: Max displacement = 5.475286236796859e+49\n",
      "Iteration 885: Retriangulation done.\n",
      "Iteration 885: Max displacement = 1.1602841909751772e+50\n",
      "Iteration 886: Retriangulation done.\n",
      "Iteration 886: Max displacement = 9.578692492350303e+49\n",
      "Iteration 887: Retriangulation done.\n",
      "Iteration 887: Max displacement = 6.423962740774109e+49\n",
      "Iteration 888: Retriangulation done.\n",
      "Iteration 888: Max displacement = 1.047235930257095e+50\n",
      "Iteration 889: Retriangulation done.\n",
      "Iteration 889: Max displacement = 5.559193065615052e+49\n",
      "Iteration 890: Retriangulation done.\n",
      "Iteration 890: Max displacement = 5.73518079207524e+49\n",
      "Iteration 891: Retriangulation done.\n",
      "Iteration 891: Max displacement = 3.745634326112717e+50\n",
      "Iteration 892: Retriangulation done.\n",
      "Iteration 892: Max displacement = 8.81431209741557e+50\n",
      "Iteration 893: Retriangulation done.\n",
      "Iteration 893: Max displacement = 1.0902001767623942e+51\n",
      "Iteration 894: Retriangulation done.\n",
      "Iteration 894: Max displacement = 6.715275996960603e+50\n",
      "Iteration 895: Retriangulation done.\n",
      "Iteration 895: Max displacement = 1.4529622078273325e+51\n",
      "Iteration 896: Retriangulation done.\n",
      "Iteration 896: Max displacement = 1.0563313077833227e+51\n",
      "Iteration 897: Retriangulation done.\n",
      "Iteration 897: Max displacement = 3.2616159180976376e+50\n",
      "Iteration 898: Retriangulation done.\n",
      "Iteration 898: Max displacement = 7.1412359796650305e+50\n",
      "Iteration 899: Retriangulation done.\n",
      "Iteration 899: Max displacement = 1.2780272743732898e+51\n",
      "Iteration 900: Retriangulation done.\n",
      "Iteration 900: Max displacement = 4.497431529810648e+50\n",
      "Iteration 901: Retriangulation done.\n",
      "Iteration 901: Max displacement = 2.1802737359837197e+51\n",
      "Iteration 902: Retriangulation done.\n",
      "Iteration 902: Max displacement = 3.418210121899454e+51\n"
     ]
    },
    {
     "ename": "QhullError",
     "evalue": "QH6154 Qhull precision error: Initial simplex is flat (facet 2 is coplanar with the interior point)\n\nWhile executing:  | qhull v Qc Qz Qbb\nOptions selected for Qhull 2019.1.r 2019/06/21:\n  run-id 140284703  voronoi  Qcoplanar-keep  Qz-infinity-point  Qbbound-last\n  _pre-merge  _zero-centrum  Qinterior-keep  Pgood  _max-width 4e+51\n  Error-roundoff 6.3e+36  _one-merge 5.7e+37  Visible-distance 3.8e+37\n  U-max-coplanar 3.8e+37  Width-outside 7.6e+37  _wide-facet 2.3e+38\n  _maxoutside 7.6e+37\n\nThe input to qhull appears to be less than 4 dimensional, or a\ncomputation has overflowed.\n\nQhull could not construct a clearly convex simplex from points:\n- p162(v5): 4.7e+48 -6.1e+48 -1e+49 3.1e+51\n- p21(v4): -2e+50 -2.7e+48 1.8e+50 1.7e+49\n- p3(v3): -5.5e+49 3.5e+50 6.3e+49 3e+49\n- p44(v2): 3.1e+51 -1.4e+51 -5.2e+50 2.8e+51\n- p8(v1): -8.7e+50 -1.8e+51 -7.2e+50 1e+51\n\nThe center point is coplanar with a facet, or a vertex is coplanar\nwith a neighboring facet.  The maximum round off error for\ncomputing distances is 6.3e+36.  The center point, facets and distances\nto the center point are as follows:\n\ncenter point 4.038e+50 -5.693e+50 -2.034e+50 1.41e+51\n\nfacet p21 p3 p44 p8 distance= -4.1e+50\nfacet p162 p3 p44 p8 distance=    0\nfacet p162 p21 p44 p8 distance=    0\nfacet p162 p21 p3 p8 distance= -6.9e+50\nfacet p162 p21 p3 p44 distance= -2.6e+50\n\nThese points either have a maximum or minimum x-coordinate, or\nthey maximize the determinant for k coordinates.  Trial points\nare first selected from points that maximize a coordinate.\n\nThe min and max coordinates for each dimension are:\n  0:  -8.66e+50  3.134e+51  difference= 4e+51\n  1:  -1.752e+51  3.504e+50  difference= 2.102e+51\n  2:  -7.222e+50  1.752e+50  difference= 8.974e+50\n  3:         0  3.134e+51  difference= 3.134e+51\n\nIf the input should be full dimensional, you have several options that\nmay determine an initial simplex:\n  - use 'QJ'  to joggle the input and make it full dimensional\n  - use 'QbB' to scale the points to the unit cube\n  - use 'QR0' to randomly rotate the input for different maximum points\n  - use 'Qs'  to search all points for the initial simplex\n  - use 'En'  to specify a maximum roundoff error less than 6.3e+36.\n  - trace execution with 'T3' to see the determinant for each point.\n\nIf the input is lower dimensional:\n  - use 'QJ' to joggle the input and make it full dimensional\n  - use 'Qbk:0Bk:0' to delete coordinate k from the input.  You should\n    pick the coordinate with the least range.  The hull will have the\n    correct topology.\n  - determine the flat containing the points, rotate the points\n    into a coordinate plane, and delete the other coordinates.\n  - add one or more points to make the input full dimensional.\n",
     "output_type": "error",
     "traceback": [
      "\u001b[0;31m---------------------------------------------------------------------------\u001b[0m",
      "\u001b[0;31mQhullError\u001b[0m                                Traceback (most recent call last)",
      "Cell \u001b[0;32mIn[20], line 104\u001b[0m\n\u001b[1;32m    102\u001b[0m file_in \u001b[38;5;241m=\u001b[39m \u001b[38;5;124m'\u001b[39m\u001b[38;5;124m/Users/cuibofei/plant_dev/PlantStress/Stress/mesh/cvt/SCVT/scvt.in\u001b[39m\u001b[38;5;124m'\u001b[39m\n\u001b[1;32m    103\u001b[0m file_coords \u001b[38;5;241m=\u001b[39m \u001b[38;5;124m'\u001b[39m\u001b[38;5;124m/Users/cuibofei/plant_dev/PlantStress/Stress/mesh/cvt/SCVT/py_version/scvt_s.dat\u001b[39m\u001b[38;5;124m'\u001b[39m\n\u001b[0;32m--> 104\u001b[0m \u001b[43mrun_lloyd\u001b[49m\u001b[43m(\u001b[49m\u001b[43mfile_in\u001b[49m\u001b[43m,\u001b[49m\u001b[43m \u001b[49m\u001b[43mfile_coords\u001b[49m\u001b[43m)\u001b[49m\n",
      "Cell \u001b[0;32mIn[20], line 94\u001b[0m, in \u001b[0;36mrun_lloyd\u001b[0;34m(file_in, file_coords)\u001b[0m\n\u001b[1;32m     91\u001b[0m     points[\u001b[38;5;241m0\u001b[39m] \u001b[38;5;241m=\u001b[39m np\u001b[38;5;241m.\u001b[39marray([\u001b[38;5;241m0.0\u001b[39m, \u001b[38;5;241m0.0\u001b[39m, ip \u001b[38;5;241m*\u001b[39m \u001b[38;5;241m1.0\u001b[39m])\n\u001b[1;32m     92\u001b[0m     \u001b[38;5;28mprint\u001b[39m(\u001b[38;5;124m\"\u001b[39m\u001b[38;5;124mThe North/South Pole is fixed!\u001b[39m\u001b[38;5;124m\"\u001b[39m)\n\u001b[0;32m---> 94\u001b[0m final_points \u001b[38;5;241m=\u001b[39m \u001b[43mlloyd_iteration\u001b[49m\u001b[43m(\u001b[49m\u001b[43mpoints\u001b[49m\u001b[43m,\u001b[49m\u001b[43m \u001b[49m\u001b[43mmax_iter\u001b[49m\u001b[43m,\u001b[49m\u001b[43m \u001b[49m\u001b[43meps\u001b[49m\u001b[43m,\u001b[49m\u001b[43m \u001b[49m\u001b[43mistride\u001b[49m\u001b[43m)\u001b[49m\n\u001b[1;32m     96\u001b[0m \u001b[38;5;66;03m# 保存结果\u001b[39;00m\n\u001b[1;32m     97\u001b[0m \u001b[38;5;66;03m# 加上一列行号\u001b[39;00m\n\u001b[1;32m     98\u001b[0m final_points \u001b[38;5;241m=\u001b[39m np\u001b[38;5;241m.\u001b[39mhstack((np\u001b[38;5;241m.\u001b[39marange(\u001b[38;5;241m1\u001b[39m, n\u001b[38;5;241m+\u001b[39m\u001b[38;5;241m1\u001b[39m)[:, np\u001b[38;5;241m.\u001b[39mnewaxis], final_points))\n",
      "Cell \u001b[0;32mIn[20], line 45\u001b[0m, in \u001b[0;36mlloyd_iteration\u001b[0;34m(points, max_iter, eps, istride)\u001b[0m\n\u001b[1;32m     42\u001b[0m \u001b[38;5;28;01mfor\u001b[39;00m i \u001b[38;5;129;01min\u001b[39;00m \u001b[38;5;28mrange\u001b[39m(max_iter):\n\u001b[1;32m     43\u001b[0m     \u001b[38;5;28;01mif\u001b[39;00m i \u001b[38;5;241m%\u001b[39m istride \u001b[38;5;241m==\u001b[39m \u001b[38;5;241m0\u001b[39m:\n\u001b[1;32m     44\u001b[0m         \u001b[38;5;66;03m# print(points)\u001b[39;00m\n\u001b[0;32m---> 45\u001b[0m         vor \u001b[38;5;241m=\u001b[39m \u001b[43mVoronoi\u001b[49m\u001b[43m(\u001b[49m\u001b[43mpoints\u001b[49m\u001b[43m)\u001b[49m  \u001b[38;5;66;03m# 生成Voronoi图\u001b[39;00m\n\u001b[1;32m     46\u001b[0m         \u001b[38;5;28mprint\u001b[39m(\u001b[38;5;124mf\u001b[39m\u001b[38;5;124m\"\u001b[39m\u001b[38;5;124mIteration \u001b[39m\u001b[38;5;132;01m{\u001b[39;00mi\u001b[38;5;132;01m}\u001b[39;00m\u001b[38;5;124m: Retriangulation done.\u001b[39m\u001b[38;5;124m\"\u001b[39m)\n\u001b[1;32m     48\u001b[0m     \u001b[38;5;66;03m# 计算每个生成点的新位置\u001b[39;00m\n\u001b[1;32m     49\u001b[0m     \u001b[38;5;66;03m# new_points = np.zeros_like(points)\u001b[39;00m\n",
      "File \u001b[0;32m_qhull.pyx:2613\u001b[0m, in \u001b[0;36mscipy.spatial._qhull.Voronoi.__init__\u001b[0;34m()\u001b[0m\n",
      "File \u001b[0;32m_qhull.pyx:343\u001b[0m, in \u001b[0;36mscipy.spatial._qhull._Qhull.__init__\u001b[0;34m()\u001b[0m\n",
      "\u001b[0;31mQhullError\u001b[0m: QH6154 Qhull precision error: Initial simplex is flat (facet 2 is coplanar with the interior point)\n\nWhile executing:  | qhull v Qc Qz Qbb\nOptions selected for Qhull 2019.1.r 2019/06/21:\n  run-id 140284703  voronoi  Qcoplanar-keep  Qz-infinity-point  Qbbound-last\n  _pre-merge  _zero-centrum  Qinterior-keep  Pgood  _max-width 4e+51\n  Error-roundoff 6.3e+36  _one-merge 5.7e+37  Visible-distance 3.8e+37\n  U-max-coplanar 3.8e+37  Width-outside 7.6e+37  _wide-facet 2.3e+38\n  _maxoutside 7.6e+37\n\nThe input to qhull appears to be less than 4 dimensional, or a\ncomputation has overflowed.\n\nQhull could not construct a clearly convex simplex from points:\n- p162(v5): 4.7e+48 -6.1e+48 -1e+49 3.1e+51\n- p21(v4): -2e+50 -2.7e+48 1.8e+50 1.7e+49\n- p3(v3): -5.5e+49 3.5e+50 6.3e+49 3e+49\n- p44(v2): 3.1e+51 -1.4e+51 -5.2e+50 2.8e+51\n- p8(v1): -8.7e+50 -1.8e+51 -7.2e+50 1e+51\n\nThe center point is coplanar with a facet, or a vertex is coplanar\nwith a neighboring facet.  The maximum round off error for\ncomputing distances is 6.3e+36.  The center point, facets and distances\nto the center point are as follows:\n\ncenter point 4.038e+50 -5.693e+50 -2.034e+50 1.41e+51\n\nfacet p21 p3 p44 p8 distance= -4.1e+50\nfacet p162 p3 p44 p8 distance=    0\nfacet p162 p21 p44 p8 distance=    0\nfacet p162 p21 p3 p8 distance= -6.9e+50\nfacet p162 p21 p3 p44 distance= -2.6e+50\n\nThese points either have a maximum or minimum x-coordinate, or\nthey maximize the determinant for k coordinates.  Trial points\nare first selected from points that maximize a coordinate.\n\nThe min and max coordinates for each dimension are:\n  0:  -8.66e+50  3.134e+51  difference= 4e+51\n  1:  -1.752e+51  3.504e+50  difference= 2.102e+51\n  2:  -7.222e+50  1.752e+50  difference= 8.974e+50\n  3:         0  3.134e+51  difference= 3.134e+51\n\nIf the input should be full dimensional, you have several options that\nmay determine an initial simplex:\n  - use 'QJ'  to joggle the input and make it full dimensional\n  - use 'QbB' to scale the points to the unit cube\n  - use 'QR0' to randomly rotate the input for different maximum points\n  - use 'Qs'  to search all points for the initial simplex\n  - use 'En'  to specify a maximum roundoff error less than 6.3e+36.\n  - trace execution with 'T3' to see the determinant for each point.\n\nIf the input is lower dimensional:\n  - use 'QJ' to joggle the input and make it full dimensional\n  - use 'Qbk:0Bk:0' to delete coordinate k from the input.  You should\n    pick the coordinate with the least range.  The hull will have the\n    correct topology.\n  - determine the flat containing the points, rotate the points\n    into a coordinate plane, and delete the other coordinates.\n  - add one or more points to make the input full dimensional.\n"
     ]
    }
   ],
   "source": [
    "import numpy as np\n",
    "from scipy.spatial import Voronoi\n",
    "import math\n",
    "import matplotlib.pyplot as plt\n",
    "from mpl_toolkits.mplot3d import Axes3D\n",
    "\n",
    "# 读取输入文件\n",
    "def read_input(file_path):\n",
    "    with open(file_path, 'r') as f:\n",
    "        lines = f.readlines()\n",
    "\n",
    "    n = int(lines[1].strip())  # Number of points\n",
    "    max_iter = int(lines[3].strip())  # Maximum iterations for Lloyd's algorithm\n",
    "    eps = float(lines[5].strip())  # Tolerance\n",
    "    ip = int(lines[7].strip())  # Pole node option\n",
    "    istride = int(lines[9].strip())  # Stride for retriangulation\n",
    "\n",
    "    return n, max_iter, eps, ip, istride\n",
    "\n",
    "# 初始化生成点的坐标\n",
    "def initialize_generators(n, file_path):\n",
    "    coords = np.loadtxt(file_path, skiprows=1, usecols=(1, 2, 3))\n",
    "    if coords.shape[0] != n:\n",
    "        raise ValueError(\"Number of generators doesn't match input.\")\n",
    "    return coords\n",
    "\n",
    "# 归一化到点集合中心\n",
    "def normalize_to_center(points):\n",
    "    center = np.mean(points, axis=0)\n",
    "    norms = np.linalg.norm(points-center, axis=1)\n",
    "    return (points - center) / norms[:, np.newaxis] + center\n",
    "    # print(norms)\n",
    "    # 把points norms norms[:, np.newaxis]输出为一个txt\n",
    "    # np.savetxt('/Users/cuibofei/plant_dev/PlantStress/Stress/mesh/cvt/SCVT/py_version/tmp/points.txt', points, fmt='%16.10f')\n",
    "    # np.savetxt('/Users/cuibofei/plant_dev/PlantStress/Stress/mesh/cvt/SCVT/py_version/tmp/norms.txt', norms, fmt='%16.10f')\n",
    "    # np.savetxt('/Users/cuibofei/plant_dev/PlantStress/Stress/mesh/cvt/SCVT/py_version/tmp/norms_newax.txt', norms[:, np.newaxis], fmt='%16.10f')\n",
    "    # assert False\n",
    "    # return points / norms[:, np.newaxis]\n",
    "\n",
    "# Lloyd算法的迭代\n",
    "def lloyd_iteration(points, max_iter, eps, istride):\n",
    "    for i in range(max_iter):\n",
    "        if i % istride == 0:\n",
    "            # print(points)\n",
    "            vor = Voronoi(points)  # 生成Voronoi图\n",
    "            print(f\"Iteration {i}: Retriangulation done.\")\n",
    "\n",
    "        # 计算每个生成点的新位置\n",
    "        # new_points = np.zeros_like(points)\n",
    "        new_points = points.copy()\n",
    "        # print(new_points.shape)\n",
    "        for j, region in enumerate(vor.regions):\n",
    "            if not region or -1 in region:  # 跳过不合规的区域\n",
    "                # print(region)\n",
    "                continue\n",
    "\n",
    "            vertices = vor.vertices[region]  # 该生成点的Voronoi区域顶点\n",
    "            new_points[j-1] = np.mean(vertices, axis=0)  # 求平均得到质心\n",
    "            # if new_points[j-1][0] == np.nan or new_points[j-1][1] == np.nan or new_points[j-1][2] == np.nan:\n",
    "            #     print('nan')\n",
    "            #     print(vertices)\n",
    "\n",
    "        # new_points = normalize_to_center(new_points)  # 归一化回到球面\n",
    "        \n",
    "\n",
    "        # 计算点的移动距离\n",
    "        displacement = np.linalg.norm(new_points - points, axis=1)\n",
    "        max_displacement = np.max(displacement)\n",
    "\n",
    "        print(f\"Iteration {i}: Max displacement = {max_displacement}\")\n",
    "        \n",
    "        points = new_points\n",
    "        # 画 points 的 散点图\n",
    "        # fig = plt.figure()\n",
    "        # ax = fig.add_subplot(111, projection='3d')\n",
    "        # ax.scatter(points[:, 0], points[:, 1], points[:, 2])\n",
    "        # plt.show()\n",
    "\n",
    "        if max_displacement < eps:\n",
    "            break\n",
    "\n",
    "    return points\n",
    "\n",
    "# 运行主程序\n",
    "def run_lloyd(file_in, file_coords):\n",
    "    n, max_iter, eps, ip, istride = read_input(file_in)\n",
    "    points = initialize_generators(n, file_coords)\n",
    "\n",
    "    # 初始化时将一个点放置在极点\n",
    "    if ip != 0:\n",
    "        points[0] = np.array([0.0, 0.0, ip * 1.0])\n",
    "        print(\"The North/South Pole is fixed!\")\n",
    "\n",
    "    final_points = lloyd_iteration(points, max_iter, eps, istride)\n",
    "\n",
    "    # 保存结果\n",
    "    # 加上一列行号\n",
    "    final_points = np.hstack((np.arange(1, n+1)[:, np.newaxis], final_points))\n",
    "    np.savetxt('scvt_lloyd.dat', final_points, fmt='%16.10f')\n",
    "\n",
    "# 执行Lloyd算法\n",
    "file_in = '/Users/cuibofei/plant_dev/PlantStress/Stress/mesh/cvt/SCVT/scvt.in'\n",
    "file_coords = '/Users/cuibofei/plant_dev/PlantStress/Stress/mesh/cvt/SCVT/py_version/scvt_s.dat'\n",
    "run_lloyd(file_in, file_coords)"
   ]
  },
  {
   "cell_type": "code",
   "execution_count": 18,
   "metadata": {},
   "outputs": [],
   "source": [
    "n, x, y, z = read_initial_coordinates(file_name='/Users/cuibofei/plant_dev/PlantStress/Stress/mesh/cvt/SCVT/py_version/scvt_lloyd.dat')"
   ]
  },
  {
   "cell_type": "code",
   "execution_count": 9,
   "metadata": {},
   "outputs": [
    {
     "data": {
      "text/plain": [
       "<contextlib.ExitStack at 0x116dfe330>"
      ]
     },
     "execution_count": 9,
     "metadata": {},
     "output_type": "execute_result"
    },
    {
     "data": {
      "image/png": "[encoded data removed]",
      "text/plain": [
       "<Figure size 640x480 with 1 Axes>"
      ]
     },
     "metadata": {},
     "output_type": "display_data"
    }
   ],
   "source": [
    "# 按照x y z绘制散点图\n",
    "import matplotlib.pyplot as plt\n",
    "from mpl_toolkits.mplot3d import Axes3D\n",
    "\n",
    "fig = plt.figure()\n",
    "ax = fig.add_subplot(111, projection='3d')\n",
    "ax.scatter(x, y, z)\n",
    "plt.ion()\n",
    "# plt.show()"
   ]
  },
  {
   "cell_type": "code",
   "execution_count": 19,
   "metadata": {},
   "outputs": [
    {
     "data": {
      "application/vnd.plotly.v1+json": {
       "config": {
        "plotlyServerURL": "https://plot.ly"
       },
       "data": [
        {
         "marker": {
          "color": [
           -0.0876025884,
           1.3793303035,
           1.2357413324,
           -0.3787449513,
           -0.236989729,
           -0.2947239416,
           0.6664490736,
           1.1478729822,
           0.0216992544,
           0.5562303954,
           0.3326733074,
           0.7139372856,
           1.42357874,
           0.1277676886,
           1.2233000786,
           -0.2617436244,
           1.0414905402,
           -0.0875555113,
           0.8104657873,
           1.2051556691,
           0.7793140844,
           0.9458583593,
           1.0491742899,
           1.434110829,
           0.8707759697,
           0.0811157951,
           -0.2244337755,
           0.8927602557,
           0.4860376654,
           1.2274311326,
           -0.3174610097,
           -0.2435057367,
           0.7505118738,
           0.837761422,
           0.5806226102,
           0.31701222,
           0.3780458614,
           1.4998612513,
           0.0202806896,
           0.5072606204,
           -0.3575770584,
           0.9525115458,
           0.7818149252,
           -0.1536871767,
           1.0818293014,
           1.3519763494,
           1.4271131792,
           1.4646629681,
           -0.207790165,
           1.2030237691,
           -0.0530575045,
           1.1761268713,
           0.1777938867,
           0.3670328098,
           1.2132464312,
           0.2502620282,
           0.6126718695,
           0.3775690631,
           0.8798487101,
           -0.1755079195,
           -0.0642661746,
           -0.2509183164,
           0.2391868801,
           -0.3899151254,
           0.1735421914,
           1.4500231231,
           0.0699367059,
           0.0955417766,
           0.9422767059,
           -0.1490056249,
           -0.0203084178,
           0.556938194,
           0.5607808301,
           0.2010746765,
           0.3601480147,
           0.370803326,
           1.373566534,
           1.2966538083,
           0.9324567088,
           1.0713376646,
           1.0325596371,
           1.497705339,
           1.1885181666,
           1.437140199,
           0.5774872085,
           0.7157561499,
           1.0702665887,
           0.7273791535,
           1.4992821244,
           0.0831854606,
           0.1796556872,
           1.1391891053,
           0.5020238884,
           0.765075551,
           1.420779383,
           0.877607798,
           -0.1483898467,
           0.0293149596,
           -0.1247847178,
           1.0854190408,
           0.0906237833,
           0.5099129439,
           0.2125012638,
           -0.059626892,
           0.0573992949,
           0.53664812,
           0.0825693682,
           0.4131906198,
           0.0392746108,
           0.7109961093,
           -0.234904154,
           -0.2334909784,
           -0.4549475688,
           -0.3804549676,
           -0.3584116077,
           0.070532571,
           -0.0112252327,
           0.244747112,
           -0.3030868248,
           -0.1721889972,
           0.2918768862,
           -0.3229727451,
           -0.4175274768,
           -0.0283302848,
           0.2179542484,
           0.0760410569,
           0.596804042,
           0.6406522831,
           0.9812459725,
           0.258062807,
           -0.106699748,
           1.1250539677,
           -0.0660227022,
           0.6885625862,
           0.5722359956,
           -0.3781743185,
           1.2078337393,
           -0.0434977673,
           0.7968322345,
           0.6770290668,
           0.3630482098,
           0.8266082737,
           0.6068178844,
           0.9227714145,
           0.4819997439,
           0.9831741201,
           1.1688520484,
           0.6379890472,
           0.749405627,
           0.821303408,
           0.2052668436,
           1.0186490694,
           0.1944585498,
           1.1250742133,
           0.9190211786,
           0.2184029973,
           1.4457253279,
           0.575396998,
           1.4996884209,
           0.7463245961,
           0.5953136436,
           1.1515737049
          ],
          "colorscale": [
           [
            0,
            "#440154"
           ],
           [
            0.1111111111111111,
            "#482878"
           ],
           [
            0.2222222222222222,
            "#3e4989"
           ],
           [
            0.3333333333333333,
            "#31688e"
           ],
           [
            0.4444444444444444,
            "#26828e"
           ],
           [
            0.5555555555555556,
            "#1f9e89"
           ],
           [
            0.6666666666666666,
            "#35b779"
           ],
           [
            0.7777777777777778,
            "#6ece58"
           ],
           [
            0.8888888888888888,
            "#b5de2b"
           ],
           [
            1,
            "#fde725"
           ]
          ],
          "opacity": 0.8,
          "size": 2
         },
         "mode": "markers",
         "type": "scatter3d",
         "x": [
          0.0314035043,
          0.8383891511,
          0.3979027843,
          0.4867085202,
          0.692233196,
          0.8945205715,
          1.4520955416,
          1.2439732047,
          -0.1291129649,
          -0.449620247,
          -0.1110369603,
          0.646921365,
          0.7428956061,
          1.2641443296,
          1.174830497,
          0.8356232514,
          1.0455442531,
          0.0158728967,
          -0.1730294965,
          1.0132781089,
          -0.181293796,
          1.0087517059,
          1.2948917032,
          0.591238785,
          1.2705249105,
          1.1363273017,
          1.0366930155,
          0.3065327618,
          0.8073007727,
          -0.2114683537,
          0.1162705136,
          0.9798960894,
          0.0714232717,
          0.1134548233,
          -0.1922474374,
          0.0299107265,
          0.0016775742,
          0.6576611991,
          0.3046960683,
          1.2139180347,
          0.942881082,
          1.3287546513,
          -0.4406828116,
          -0.2265405799,
          1.1978174098,
          0.9120495647,
          0.8741327668,
          0.1560420901,
          1.0236865427,
          1.1031790977,
          -0.05380387,
          0.7359999706,
          1.3642115907,
          -0.3976220796,
          0.8411137704,
          1.0802696165,
          0.4056874234,
          0.6876520268,
          -0.291355529,
          1.1046899248,
          -0.2719520799,
          0.052097164,
          -0.0900457386,
          0.2575308262,
          -0.2319082441,
          0.1076581239,
          -0.4238173947,
          1.2801992941,
          1.2911083279,
          1.2090269592,
          0.9996081145,
          1.0976415792,
          1.3579698665,
          1.3421654291,
          1.386446869,
          1.4527635554,
          0.5314656674,
          0.2021640767,
          0.6080744148,
          0.9628879591,
          1.209554751,
          0.5709968057,
          1.1382354838,
          0.854091353,
          0.9772855598,
          -0.2294083245,
          1.2979958638,
          0.0962515863,
          0.3369348551,
          1.2485119882,
          1.3993282919,
          1.1720813827,
          0.7392042655,
          0.9385389311,
          0.5503012187,
          0.8825854474,
          0.4663777026,
          -0.4008326316,
          -0.2912417483,
          0.9674463202,
          -0.4121817016,
          -0.5323365221,
          -0.4668565809,
          -0.3463170561,
          -0.4088952566,
          -0.5324097581,
          -0.3447176464,
          -0.4314701301,
          -0.2565434841,
          -0.50037941,
          -0.1797411519,
          -0.1157050701,
          0.2632593378,
          0.0541266353,
          0.341660341,
          0.8744779611,
          1.1040456348,
          0.7471446475,
          0.8889045626,
          1.1394698327,
          1.1848111561,
          0.658910807,
          0.4817521406,
          1.0185834488,
          1.0556769054,
          1.2457974528,
          1.2773421392,
          0.584410639,
          1.0090683781,
          0.5043829185,
          0.2108411194,
          0.9850157171,
          0.5294982647,
          0.7698633407,
          0.5139891193,
          0.3618024422,
          0.7554367822,
          0.3546025897,
          -0.0919369644,
          -0.3218557845,
          1.1480654554,
          -0.236725985,
          -0.1201696205,
          -0.1376232833,
          -0.3094456467,
          -0.0635787865,
          -0.1761410809,
          -0.4231666612,
          -0.4043523914,
          -0.1726048472,
          -0.2223689479,
          -0.3737940057,
          -0.3272965348,
          -0.3252277781,
          0.3682919768,
          0.0648965423,
          0.1115763754,
          0.2291992402,
          0.4588729082,
          0.2401260888,
          0.3932025588,
          0.3524815565
         ],
         "y": [
          1.1309779156,
          0.1179736088,
          1.1583708043,
          0.0235537434,
          -0.1504089888,
          0.0694410511,
          0.5564049204,
          0.4479908505,
          1.0960726692,
          0.8625121925,
          1.2597789499,
          -0.4986826796,
          0.7882855663,
          0.0041596487,
          0.4181485413,
          -0.0407289804,
          -0.1605602339,
          1.1205863086,
          -0.2448726112,
          0.9449458707,
          -0.2494961789,
          1.1892242241,
          0.6475519853,
          0.8470364089,
          0.9455530558,
          -0.1358468638,
          0.112641781,
          -0.4477454662,
          -0.4745136428,
          0.6554297225,
          0.8878782729,
          0.068916556,
          1.3537775549,
          1.3443602883,
          1.2143985217,
          1.3418468142,
          1.3391780519,
          0.4695301409,
          -0.3864828545,
          -0.199839793,
          0.3818306343,
          0.2021120247,
          0.1398784025,
          0.7245230424,
          0.0797907292,
          0.1383185513,
          0.3742364988,
          0.3805762613,
          0.8697430939,
          0.821282815,
          1.099514151,
          -0.2381016685,
          0.7478749013,
          0.9439062933,
          1.0794966378,
          -0.2779683622,
          1.4589926181,
          -0.4998672517,
          1.0071703982,
          0.8010065943,
          0.1274077602,
          -0.020523603,
          1.2473602527,
          0.8278738233,
          1.0917077688,
          0.4182053945,
          0.3951918814,
          0.0645276465,
          0.0891669358,
          0.3959108821,
          -0.1878943269,
          -0.3100080599,
          0.0126334921,
          0.0990946713,
          0.8263530579,
          0.5505469269,
          0.9793321647,
          1.0342413438,
          1.3645723639,
          1.1350253506,
          0.8949313123,
          0.6377795971,
          0.7824238447,
          0.3886892421,
          1.3235460291,
          1.1549295442,
          0.5374414626,
          1.3700952468,
          0.6080817826,
          0.913263032,
          0.5951642651,
          0.1223642566,
          -0.4968219489,
          -0.3813814743,
          0.0430405322,
          -0.3703022419,
          -0.2800905811,
          0.3799375239,
          0.3596624639,
          1.1196801639,
          0.2564648713,
          0.4889662462,
          0.2814341722,
          0.401177678,
          0.6064644104,
          0.4537524021,
          0.8537333275,
          0.8909452154,
          0.9620290131,
          0.6275725693,
          0.5844900766,
          0.1570198879,
          0.5723185963,
          0.31786333,
          0.000786692,
          1.2615540921,
          1.0260837674,
          1.3856909322,
          0.849920156,
          0.7331401965,
          1.1242094696,
          0.9711726831,
          0.817955092,
          1.0958634,
          1.2162200873,
          0.9109882366,
          1.0465254835,
          1.4509219532,
          1.1668667485,
          1.4302576986,
          1.2027896878,
          -0.1376822697,
          1.2746313506,
          1.4031689618,
          -0.5320645035,
          0.0347202084,
          -0.1989505757,
          -0.354279113,
          -0.3153424723,
          -0.1278366165,
          1.1813239435,
          -0.174247733,
          -0.3389541087,
          -0.220390591,
          1.0940946122,
          -0.2430402802,
          0.0622702648,
          0.0265023912,
          0.0333501131,
          -0.2406999697,
          -0.1876055246,
          0.260513665,
          -0.0481949421,
          0.5241717812,
          -0.4453795302,
          -0.3995946105,
          0.3512741414,
          -0.5041571582,
          0.2743257041,
          -0.4813510461,
          -0.5288752229,
          -0.2998463449
         ],
         "z": [
          -0.0876025884,
          1.3793303035,
          1.2357413324,
          -0.3787449513,
          -0.236989729,
          -0.2947239416,
          0.6664490736,
          1.1478729822,
          0.0216992544,
          0.5562303954,
          0.3326733074,
          0.7139372856,
          1.42357874,
          0.1277676886,
          1.2233000786,
          -0.2617436244,
          1.0414905402,
          -0.0875555113,
          0.8104657873,
          1.2051556691,
          0.7793140844,
          0.9458583593,
          1.0491742899,
          1.434110829,
          0.8707759697,
          0.0811157951,
          -0.2244337755,
          0.8927602557,
          0.4860376654,
          1.2274311326,
          -0.3174610097,
          -0.2435057367,
          0.7505118738,
          0.837761422,
          0.5806226102,
          0.31701222,
          0.3780458614,
          1.4998612513,
          0.0202806896,
          0.5072606204,
          -0.3575770584,
          0.9525115458,
          0.7818149252,
          -0.1536871767,
          1.0818293014,
          1.3519763494,
          1.4271131792,
          1.4646629681,
          -0.207790165,
          1.2030237691,
          -0.0530575045,
          1.1761268713,
          0.1777938867,
          0.3670328098,
          1.2132464312,
          0.2502620282,
          0.6126718695,
          0.3775690631,
          0.8798487101,
          -0.1755079195,
          -0.0642661746,
          -0.2509183164,
          0.2391868801,
          -0.3899151254,
          0.1735421914,
          1.4500231231,
          0.0699367059,
          0.0955417766,
          0.9422767059,
          -0.1490056249,
          -0.0203084178,
          0.556938194,
          0.5607808301,
          0.2010746765,
          0.3601480147,
          0.370803326,
          1.373566534,
          1.2966538083,
          0.9324567088,
          1.0713376646,
          1.0325596371,
          1.497705339,
          1.1885181666,
          1.437140199,
          0.5774872085,
          0.7157561499,
          1.0702665887,
          0.7273791535,
          1.4992821244,
          0.0831854606,
          0.1796556872,
          1.1391891053,
          0.5020238884,
          0.765075551,
          1.420779383,
          0.877607798,
          -0.1483898467,
          0.0293149596,
          -0.1247847178,
          1.0854190408,
          0.0906237833,
          0.5099129439,
          0.2125012638,
          -0.059626892,
          0.0573992949,
          0.53664812,
          0.0825693682,
          0.4131906198,
          0.0392746108,
          0.7109961093,
          -0.234904154,
          -0.2334909784,
          -0.4549475688,
          -0.3804549676,
          -0.3584116077,
          0.070532571,
          -0.0112252327,
          0.244747112,
          -0.3030868248,
          -0.1721889972,
          0.2918768862,
          -0.3229727451,
          -0.4175274768,
          -0.0283302848,
          0.2179542484,
          0.0760410569,
          0.596804042,
          0.6406522831,
          0.9812459725,
          0.258062807,
          -0.106699748,
          1.1250539677,
          -0.0660227022,
          0.6885625862,
          0.5722359956,
          -0.3781743185,
          1.2078337393,
          -0.0434977673,
          0.7968322345,
          0.6770290668,
          0.3630482098,
          0.8266082737,
          0.6068178844,
          0.9227714145,
          0.4819997439,
          0.9831741201,
          1.1688520484,
          0.6379890472,
          0.749405627,
          0.821303408,
          0.2052668436,
          1.0186490694,
          0.1944585498,
          1.1250742133,
          0.9190211786,
          0.2184029973,
          1.4457253279,
          0.575396998,
          1.4996884209,
          0.7463245961,
          0.5953136436,
          1.1515737049
         ]
        }
       ],
       "layout": {
        "template": {
         "data": {
          "bar": [
           {
            "error_x": {
             "color": "#2a3f5f"
            },
            "error_y": {
             "color": "#2a3f5f"
            },
            "marker": {
             "line": {
              "color": "#E5ECF6",
              "width": 0.5
             },
             "pattern": {
              "fillmode": "overlay",
              "size": 10,
              "solidity": 0.2
             }
            },
            "type": "bar"
           }
          ],
          "barpolar": [
           {
            "marker": {
             "line": {
              "color": "#E5ECF6",
              "width": 0.5
             },
             "pattern": {
              "fillmode": "overlay",
              "size": 10,
              "solidity": 0.2
             }
            },
            "type": "barpolar"
           }
          ],
          "carpet": [
           {
            "aaxis": {
             "endlinecolor": "#2a3f5f",
             "gridcolor": "white",
             "linecolor": "white",
             "minorgridcolor": "white",
             "startlinecolor": "#2a3f5f"
            },
            "baxis": {
             "endlinecolor": "#2a3f5f",
             "gridcolor": "white",
             "linecolor": "white",
             "minorgridcolor": "white",
             "startlinecolor": "#2a3f5f"
            },
            "type": "carpet"
           }
          ],
          "choropleth": [
           {
            "colorbar": {
             "outlinewidth": 0,
             "ticks": ""
            },
            "type": "choropleth"
           }
          ],
          "contour": [
           {
            "colorbar": {
             "outlinewidth": 0,
             "ticks": ""
            },
            "colorscale": [
             [
              0,
              "#0d0887"
             ],
             [
              0.1111111111111111,
              "#46039f"
             ],
             [
              0.2222222222222222,
              "#7201a8"
             ],
             [
              0.3333333333333333,
              "#9c179e"
             ],
             [
              0.4444444444444444,
              "#bd3786"
             ],
             [
              0.5555555555555556,
              "#d8576b"
             ],
             [
              0.6666666666666666,
              "#ed7953"
             ],
             [
              0.7777777777777778,
              "#fb9f3a"
             ],
             [
              0.8888888888888888,
              "#fdca26"
             ],
             [
              1,
              "#f0f921"
             ]
            ],
            "type": "contour"
           }
          ],
          "contourcarpet": [
           {
            "colorbar": {
             "outlinewidth": 0,
             "ticks": ""
            },
            "type": "contourcarpet"
           }
          ],
          "heatmap": [
           {
            "colorbar": {
             "outlinewidth": 0,
             "ticks": ""
            },
            "colorscale": [
             [
              0,
              "#0d0887"
             ],
             [
              0.1111111111111111,
              "#46039f"
             ],
             [
              0.2222222222222222,
              "#7201a8"
             ],
             [
              0.3333333333333333,
              "#9c179e"
             ],
             [
              0.4444444444444444,
              "#bd3786"
             ],
             [
              0.5555555555555556,
              "#d8576b"
             ],
             [
              0.6666666666666666,
              "#ed7953"
             ],
             [
              0.7777777777777778,
              "#fb9f3a"
             ],
             [
              0.8888888888888888,
              "#fdca26"
             ],
             [
              1,
              "#f0f921"
             ]
            ],
            "type": "heatmap"
           }
          ],
          "heatmapgl": [
           {
            "colorbar": {
             "outlinewidth": 0,
             "ticks": ""
            },
            "colorscale": [
             [
              0,
              "#0d0887"
             ],
             [
              0.1111111111111111,
              "#46039f"
             ],
             [
              0.2222222222222222,
              "#7201a8"
             ],
             [
              0.3333333333333333,
              "#9c179e"
             ],
             [
              0.4444444444444444,
              "#bd3786"
             ],
             [
              0.5555555555555556,
              "#d8576b"
             ],
             [
              0.6666666666666666,
              "#ed7953"
             ],
             [
              0.7777777777777778,
              "#fb9f3a"
             ],
             [
              0.8888888888888888,
              "#fdca26"
             ],
             [
              1,
              "#f0f921"
             ]
            ],
            "type": "heatmapgl"
           }
          ],
          "histogram": [
           {
            "marker": {
             "pattern": {
              "fillmode": "overlay",
              "size": 10,
              "solidity": 0.2
             }
            },
            "type": "histogram"
           }
          ],
          "histogram2d": [
           {
            "colorbar": {
             "outlinewidth": 0,
             "ticks": ""
            },
            "colorscale": [
             [
              0,
              "#0d0887"
             ],
             [
              0.1111111111111111,
              "#46039f"
             ],
             [
              0.2222222222222222,
              "#7201a8"
             ],
             [
              0.3333333333333333,
              "#9c179e"
             ],
             [
              0.4444444444444444,
              "#bd3786"
             ],
             [
              0.5555555555555556,
              "#d8576b"
             ],
             [
              0.6666666666666666,
              "#ed7953"
             ],
             [
              0.7777777777777778,
              "#fb9f3a"
             ],
             [
              0.8888888888888888,
              "#fdca26"
             ],
             [
              1,
              "#f0f921"
             ]
            ],
            "type": "histogram2d"
           }
          ],
          "histogram2dcontour": [
           {
            "colorbar": {
             "outlinewidth": 0,
             "ticks": ""
            },
            "colorscale": [
             [
              0,
              "#0d0887"
             ],
             [
              0.1111111111111111,
              "#46039f"
             ],
             [
              0.2222222222222222,
              "#7201a8"
             ],
             [
              0.3333333333333333,
              "#9c179e"
             ],
             [
              0.4444444444444444,
              "#bd3786"
             ],
             [
              0.5555555555555556,
              "#d8576b"
             ],
             [
              0.6666666666666666,
              "#ed7953"
             ],
             [
              0.7777777777777778,
              "#fb9f3a"
             ],
             [
              0.8888888888888888,
              "#fdca26"
             ],
             [
              1,
              "#f0f921"
             ]
            ],
            "type": "histogram2dcontour"
           }
          ],
          "mesh3d": [
           {
            "colorbar": {
             "outlinewidth": 0,
             "ticks": ""
            },
            "type": "mesh3d"
           }
          ],
          "parcoords": [
           {
            "line": {
             "colorbar": {
              "outlinewidth": 0,
              "ticks": ""
             }
            },
            "type": "parcoords"
           }
          ],
          "pie": [
           {
            "automargin": true,
            "type": "pie"
           }
          ],
          "scatter": [
           {
            "fillpattern": {
             "fillmode": "overlay",
             "size": 10,
             "solidity": 0.2
            },
            "type": "scatter"
           }
          ],
          "scatter3d": [
           {
            "line": {
             "colorbar": {
              "outlinewidth": 0,
              "ticks": ""
             }
            },
            "marker": {
             "colorbar": {
              "outlinewidth": 0,
              "ticks": ""
             }
            },
            "type": "scatter3d"
           }
          ],
          "scattercarpet": [
           {
            "marker": {
             "colorbar": {
              "outlinewidth": 0,
              "ticks": ""
             }
            },
            "type": "scattercarpet"
           }
          ],
          "scattergeo": [
           {
            "marker": {
             "colorbar": {
              "outlinewidth": 0,
              "ticks": ""
             }
            },
            "type": "scattergeo"
           }
          ],
          "scattergl": [
           {
            "marker": {
             "colorbar": {
              "outlinewidth": 0,
              "ticks": ""
             }
            },
            "type": "scattergl"
           }
          ],
          "scattermapbox": [
           {
            "marker": {
             "colorbar": {
              "outlinewidth": 0,
              "ticks": ""
             }
            },
            "type": "scattermapbox"
           }
          ],
          "scatterpolar": [
           {
            "marker": {
             "colorbar": {
              "outlinewidth": 0,
              "ticks": ""
             }
            },
            "type": "scatterpolar"
           }
          ],
          "scatterpolargl": [
           {
            "marker": {
             "colorbar": {
              "outlinewidth": 0,
              "ticks": ""
             }
            },
            "type": "scatterpolargl"
           }
          ],
          "scatterternary": [
           {
            "marker": {
             "colorbar": {
              "outlinewidth": 0,
              "ticks": ""
             }
            },
            "type": "scatterternary"
           }
          ],
          "surface": [
           {
            "colorbar": {
             "outlinewidth": 0,
             "ticks": ""
            },
            "colorscale": [
             [
              0,
              "#0d0887"
             ],
             [
              0.1111111111111111,
              "#46039f"
             ],
             [
              0.2222222222222222,
              "#7201a8"
             ],
             [
              0.3333333333333333,
              "#9c179e"
             ],
             [
              0.4444444444444444,
              "#bd3786"
             ],
             [
              0.5555555555555556,
              "#d8576b"
             ],
             [
              0.6666666666666666,
              "#ed7953"
             ],
             [
              0.7777777777777778,
              "#fb9f3a"
             ],
             [
              0.8888888888888888,
              "#fdca26"
             ],
             [
              1,
              "#f0f921"
             ]
            ],
            "type": "surface"
           }
          ],
          "table": [
           {
            "cells": {
             "fill": {
              "color": "#EBF0F8"
             },
             "line": {
              "color": "white"
             }
            },
            "header": {
             "fill": {
              "color": "#C8D4E3"
             },
             "line": {
              "color": "white"
             }
            },
            "type": "table"
           }
          ]
         },
         "layout": {
          "annotationdefaults": {
           "arrowcolor": "#2a3f5f",
           "arrowhead": 0,
           "arrowwidth": 1
          },
          "autotypenumbers": "strict",
          "coloraxis": {
           "colorbar": {
            "outlinewidth": 0,
            "ticks": ""
           }
          },
          "colorscale": {
           "diverging": [
            [
             0,
             "#8e0152"
            ],
            [
             0.1,
             "#c51b7d"
            ],
            [
             0.2,
             "#de77ae"
            ],
            [
             0.3,
             "#f1b6da"
            ],
            [
             0.4,
             "#fde0ef"
            ],
            [
             0.5,
             "#f7f7f7"
            ],
            [
             0.6,
             "#e6f5d0"
            ],
            [
             0.7,
             "#b8e186"
            ],
            [
             0.8,
             "#7fbc41"
            ],
            [
             0.9,
             "#4d9221"
            ],
            [
             1,
             "#276419"
            ]
           ],
           "sequential": [
            [
             0,
             "#0d0887"
            ],
            [
             0.1111111111111111,
             "#46039f"
            ],
            [
             0.2222222222222222,
             "#7201a8"
            ],
            [
             0.3333333333333333,
             "#9c179e"
            ],
            [
             0.4444444444444444,
             "#bd3786"
            ],
            [
             0.5555555555555556,
             "#d8576b"
            ],
            [
             0.6666666666666666,
             "#ed7953"
            ],
            [
             0.7777777777777778,
             "#fb9f3a"
            ],
            [
             0.8888888888888888,
             "#fdca26"
            ],
            [
             1,
             "#f0f921"
            ]
           ],
           "sequentialminus": [
            [
             0,
             "#0d0887"
            ],
            [
             0.1111111111111111,
             "#46039f"
            ],
            [
             0.2222222222222222,
             "#7201a8"
            ],
            [
             0.3333333333333333,
             "#9c179e"
            ],
            [
             0.4444444444444444,
             "#bd3786"
            ],
            [
             0.5555555555555556,
             "#d8576b"
            ],
            [
             0.6666666666666666,
             "#ed7953"
            ],
            [
             0.7777777777777778,
             "#fb9f3a"
            ],
            [
             0.8888888888888888,
             "#fdca26"
            ],
            [
             1,
             "#f0f921"
            ]
           ]
          },
          "colorway": [
           "#636efa",
           "#EF553B",
           "#00cc96",
           "#ab63fa",
           "#FFA15A",
           "#19d3f3",
           "#FF6692",
           "#B6E880",
           "#FF97FF",
           "#FECB52"
          ],
          "font": {
           "color": "#2a3f5f"
          },
          "geo": {
           "bgcolor": "white",
           "lakecolor": "white",
           "landcolor": "#E5ECF6",
           "showlakes": true,
           "showland": true,
           "subunitcolor": "white"
          },
          "hoverlabel": {
           "align": "left"
          },
          "hovermode": "closest",
          "mapbox": {
           "style": "light"
          },
          "paper_bgcolor": "white",
          "plot_bgcolor": "#E5ECF6",
          "polar": {
           "angularaxis": {
            "gridcolor": "white",
            "linecolor": "white",
            "ticks": ""
           },
           "bgcolor": "#E5ECF6",
           "radialaxis": {
            "gridcolor": "white",
            "linecolor": "white",
            "ticks": ""
           }
          },
          "scene": {
           "xaxis": {
            "backgroundcolor": "#E5ECF6",
            "gridcolor": "white",
            "gridwidth": 2,
            "linecolor": "white",
            "showbackground": true,
            "ticks": "",
            "zerolinecolor": "white"
           },
           "yaxis": {
            "backgroundcolor": "#E5ECF6",
            "gridcolor": "white",
            "gridwidth": 2,
            "linecolor": "white",
            "showbackground": true,
            "ticks": "",
            "zerolinecolor": "white"
           },
           "zaxis": {
            "backgroundcolor": "#E5ECF6",
            "gridcolor": "white",
            "gridwidth": 2,
            "linecolor": "white",
            "showbackground": true,
            "ticks": "",
            "zerolinecolor": "white"
           }
          },
          "shapedefaults": {
           "line": {
            "color": "#2a3f5f"
           }
          },
          "ternary": {
           "aaxis": {
            "gridcolor": "white",
            "linecolor": "white",
            "ticks": ""
           },
           "baxis": {
            "gridcolor": "white",
            "linecolor": "white",
            "ticks": ""
           },
           "bgcolor": "#E5ECF6",
           "caxis": {
            "gridcolor": "white",
            "linecolor": "white",
            "ticks": ""
           }
          },
          "title": {
           "x": 0.05
          },
          "xaxis": {
           "automargin": true,
           "gridcolor": "white",
           "linecolor": "white",
           "ticks": "",
           "title": {
            "standoff": 15
           },
           "zerolinecolor": "white",
           "zerolinewidth": 2
          },
          "yaxis": {
           "automargin": true,
           "gridcolor": "white",
           "linecolor": "white",
           "ticks": "",
           "title": {
            "standoff": 15
           },
           "zerolinecolor": "white",
           "zerolinewidth": 2
          }
         }
        }
       }
      }
     },
     "metadata": {},
     "output_type": "display_data"
    }
   ],
   "source": [
    "import plotly.graph_objects as go\n",
    "# import numpy as np\n",
    "\n",
    "# # 创建一些三维数据\n",
    "# x = np.random.rand(100)\n",
    "# y = np.random.rand(100)\n",
    "# z = np.random.rand(100)\n",
    "\n",
    "# 创建三维散点图\n",
    "fig = go.Figure(data=[go.Scatter3d(x=x, y=y, z=z,\n",
    "                                  mode='markers',\n",
    "                                  marker=dict(\n",
    "                                      size=2,\n",
    "                                      color=z,  # 根据z值设置颜色\n",
    "                                      colorscale='Viridis',\n",
    "                                      opacity=0.8\n",
    "                                  ))])\n",
    "\n",
    "# 设置图形的标题和坐标轴标签\n",
    "# fig.update_layout(title='3D Scatter Plot',\n",
    "#                   xaxis_title='X Axis',\n",
    "#                   yaxis_title='Y Axis',\n",
    "#                   zaxis_title='Z Axis')\n",
    "\n",
    "# 显示图形\n",
    "fig.show()\n"
   ]
  },
  {
   "cell_type": "code",
   "execution_count": 2,
   "metadata": {},
   "outputs": [
    {
     "name": "stdout",
     "output_type": "stream",
     "text": [
      "60\n",
      "60\n",
      "60\n",
      "60\n",
      "60\n",
      "60\n",
      "60\n",
      "60\n",
      "60\n",
      "60\n"
     ]
    },
    {
     "data": {
      "image/png": "[encoded data removed]",
      "text/plain": [
       "<Figure size 640x480 with 1 Axes>"
      ]
     },
     "metadata": {},
     "output_type": "display_data"
    }
   ],
   "source": [
    "import numpy as np\n",
    "import matplotlib.pyplot as plt\n",
    "from scipy.spatial import cKDTree\n",
    "from skimage.morphology import ball\n",
    "\n",
    "# 步骤 1: 生成一个闭合的三维体 (球体)\n",
    "def create_closed_body(radius=50):\n",
    "    return ball(radius)\n",
    "\n",
    "# 步骤 2: 随机生成控制点\n",
    "def generate_random_points(num_points, shape):\n",
    "    points = np.random.rand(num_points, 3) * np.array(shape)\n",
    "    return points\n",
    "\n",
    "# 步骤 3: 计算离散Voronoi图\n",
    "def compute_discrete_voronoi(closed_body, points):\n",
    "    coords = np.column_stack(np.nonzero(closed_body))  # 获取闭合体内的体素坐标\n",
    "    tree = cKDTree(points)  # 构建控制点的KD树以便于快速查询\n",
    "    distances, regions = tree.query(coords)  # 查询每个体素最近的控制点\n",
    "    voronoi_map = np.zeros_like(closed_body, dtype=int)  # 创建和闭合体形状一致的结果\n",
    "    voronoi_map[closed_body > 0] = regions  # 只填充闭合体内部的部分\n",
    "    return voronoi_map,coords\n",
    "\n",
    "# 步骤 4: 可视化离散Voronoi图\n",
    "def visualize_voronoi(voronoi_map, axis=2):\n",
    "    plt.imshow(voronoi_map.take(voronoi_map.shape[axis] // 2, axis=axis))\n",
    "    plt.title(\"Discrete Voronoi Diagram (slice)\")\n",
    "    plt.show()\n",
    "\n",
    "\n",
    "# 步骤 4: 计算Voronoi单元的质心，避免NaN\n",
    "def compute_centroids(voronoi_map, coords):\n",
    "    num_regions = voronoi_map.max() + 1  # 得到Voronoi区域的数量\n",
    "    centroids = np.zeros((num_regions, 3))  # 用于存储每个Voronoi单元的质心\n",
    "    counts = np.zeros(num_regions)  # 记录每个区域的体素数量\n",
    "\n",
    "    for i, region in enumerate(voronoi_map[voronoi_map > 0]):\n",
    "        centroids[region] += coords[i]  # 累加属于该区域的体素坐标\n",
    "        counts[region] += 1  # 记录该区域的体素数量\n",
    "\n",
    "    # 计算质心：质心为所有坐标的平均值，跳过体素数量为0的区域\n",
    "    non_empty_regions = counts > 1  # 过滤掉没有体素的区域\n",
    "    print(len(counts)-len(counts[non_empty_regions]))\n",
    "    centroids[non_empty_regions] = centroids[non_empty_regions] / counts[non_empty_regions, None]\n",
    "    \n",
    "    return centroids\n",
    "\n",
    "# 主程序\n",
    "if __name__ == \"__main__\":\n",
    "    # 创建一个三维球体\n",
    "    closed_body = create_closed_body(radius=100)\n",
    "    \n",
    "    # 生成随机控制点\n",
    "    num_points = 300\n",
    "    points = generate_random_points(num_points, closed_body.shape)\n",
    "    iterNum = 10\n",
    "    for i in range(iterNum):\n",
    "        # 计算离散Voronoi图\n",
    "        voronoi_map,coords = compute_discrete_voronoi(closed_body, points)\n",
    "        # 计算质心\n",
    "        centroids = compute_centroids(voronoi_map, coords)\n",
    "        points = centroids\n",
    "    \n",
    "    \n",
    "    # 可视化其中一个切片\n",
    "    visualize_voronoi(voronoi_map, axis=2)"
   ]
  },
  {
   "cell_type": "code",
   "execution_count": 4,
   "metadata": {},
   "outputs": [
    {
     "data": {
      "text/plain": [
       "299"
      ]
     },
     "execution_count": 4,
     "metadata": {},
     "output_type": "execute_result"
    }
   ],
   "source": [
    "len(points)"
   ]
  },
  {
   "cell_type": "code",
   "execution_count": 5,
   "metadata": {},
   "outputs": [
    {
     "data": {
      "text/plain": [
       "array([[  0.        ,   0.        ,   0.        ],\n",
       "       [156.1141928 , 107.40964595, 147.29575996],\n",
       "       [ 96.97438163,  58.65102852,  24.41282812],\n",
       "       [161.62348705, 110.08452536,  71.26888066],\n",
       "       [150.84651349,  59.24635365,  39.61798202],\n",
       "       [153.22790916, 135.43089703, 129.825685  ],\n",
       "       [ 83.72078689, 153.20884483,  92.55667985],\n",
       "       [161.04546616,  86.41941252,  86.89514687],\n",
       "       [ 78.38492592, 129.41447077,  54.20149055],\n",
       "       [ 66.05177193,  99.45605356,  48.53102478],\n",
       "       [ 81.47843819,  63.40295514,  86.1958949 ],\n",
       "       [  0.        ,   0.        ,   0.        ],\n",
       "       [157.6625809 , 114.92635811, 117.6335556 ],\n",
       "       [133.36538941,  76.7695949 , 153.21446011],\n",
       "       [  0.        ,   0.        ,   0.        ],\n",
       "       [ 46.49979517,  29.59232896,  92.7662331 ],\n",
       "       [  0.        ,   0.        ,   0.        ],\n",
       "       [167.79129693,  64.59462457, 107.68174061],\n",
       "       [162.70450556,  69.7949093 , 145.25877706],\n",
       "       [ 81.56682028,  85.48123766,  83.5547235 ],\n",
       "       [ 27.90558744,  49.81796884,  87.89949631],\n",
       "       [  0.        ,   0.        ,   0.        ],\n",
       "       [  0.        ,   0.        ,   0.        ],\n",
       "       [103.38688454,  43.8170199 ,  81.53594348],\n",
       "       [123.99311658,  49.94258934,  90.34336555],\n",
       "       [ 25.25620417, 140.88765034, 107.90906424],\n",
       "       [ 70.22187178, 107.77885607,  78.02371565],\n",
       "       [ 54.7628479 , 137.28011318, 164.43521192],\n",
       "       [180.38803198,  91.00888315,  67.5677138 ],\n",
       "       [107.92710067, 125.32668886, 160.21979322],\n",
       "       [151.91660975, 144.14082776, 101.39735009],\n",
       "       [  0.        ,   0.        ,   0.        ],\n",
       "       [ 13.85214738,  94.08835954, 119.41046703],\n",
       "       [ 95.78286475,  57.66654981, 114.04900792],\n",
       "       [ 85.48436321,  77.86777899, 107.16693217],\n",
       "       [174.84397117,  69.04836173,  58.01264744],\n",
       "       [ 13.04488069,  79.3686182 ,  93.15184517],\n",
       "       [ 89.15668374,  31.25673331,  44.32026603],\n",
       "       [128.45575554,  23.842732  , 131.53219956],\n",
       "       [120.47035706, 132.76409162, 106.44352122],\n",
       "       [  0.        ,   0.        ,   0.        ],\n",
       "       [ 38.66143872, 161.9200988 , 104.75362766],\n",
       "       [ 49.22839538, 131.95496791, 123.21345315],\n",
       "       [102.21817495,  70.88106416,  58.93734823],\n",
       "       [170.13823189, 119.75654368, 104.6309261 ],\n",
       "       [  0.        ,   0.        ,   0.        ],\n",
       "       [ 90.55337643,  81.93897965, 185.30466498],\n",
       "       [125.91100386,  84.44401544, 104.89478764],\n",
       "       [ 63.49776402,  64.47259489, 129.10400183],\n",
       "       [ 26.89182519,  99.00288948, 146.27654707],\n",
       "       [  0.        ,   0.        ,   0.        ],\n",
       "       [103.71956936, 142.38926322,  80.63776183],\n",
       "       [ 22.6158608 , 138.66181473,  84.34560259],\n",
       "       [146.83528493,  91.69867291, 128.78844653],\n",
       "       [150.62372726,  88.57338977,  67.3072875 ],\n",
       "       [152.116409  , 164.23955304, 127.15303077],\n",
       "       [178.63287894, 114.1431966 , 140.05002501],\n",
       "       [188.12946037,  78.09127332,  82.87942907],\n",
       "       [128.1338375 ,  94.11994372,  87.42455153],\n",
       "       [124.26217381, 130.26007689, 143.64777493],\n",
       "       [130.72938547,  90.0449162 ,  66.90837989],\n",
       "       [126.39350664,  83.8485998 , 130.19669753],\n",
       "       [  0.        ,   0.        ,   0.        ],\n",
       "       [  0.        ,   0.        ,   0.        ],\n",
       "       [  0.        ,   0.        ,   0.        ],\n",
       "       [113.50277977, 137.6412768 , 179.59978821],\n",
       "       [137.03074731,  42.350092  , 111.17486793],\n",
       "       [130.94248955,  65.97503849, 101.92379591],\n",
       "       [ 34.83667171,  90.54413649, 102.49050891],\n",
       "       [ 15.87536832,  93.59350511,  76.7000815 ],\n",
       "       [ 64.71208316,  85.08497343, 102.91800502],\n",
       "       [141.4018006 , 107.80646882,  52.29169723],\n",
       "       [127.91850822, 130.24735152,  47.6583577 ],\n",
       "       [  0.        ,   0.        ,   0.        ],\n",
       "       [120.85637274, 110.1158067 ,  66.77098575],\n",
       "       [  0.        ,   0.        ,   0.        ],\n",
       "       [ 63.58692793,  88.05260389, 178.90838155],\n",
       "       [ 47.67645119,  98.09225405,  28.70571052],\n",
       "       [ 33.21865261,  46.12442631, 115.30183013],\n",
       "       [174.36901341, 100.12308429,  89.27969349],\n",
       "       [107.01629   , 112.68121821,  13.339096  ],\n",
       "       [185.4338796 ,  86.01200714, 128.7075288 ],\n",
       "       [ 45.35077669,  99.05171079, 125.02709398],\n",
       "       [ 79.36225933,  19.28743498,  73.58700611],\n",
       "       [  0.        ,   0.        ,   0.        ],\n",
       "       [137.21393841, 128.77608777,  94.76411919],\n",
       "       [  0.        ,   0.        ,   0.        ],\n",
       "       [107.54606251, 109.86829535,  85.73372458],\n",
       "       [149.93418564,  52.83823625,  88.62363838],\n",
       "       [ 74.2310741 , 179.10936638, 130.87643606],\n",
       "       [175.93640206,  58.5294545 , 127.14476291],\n",
       "       [122.48156682, 133.16534244,  74.23661211],\n",
       "       [161.20445383,  90.96885199,  34.58778076],\n",
       "       [ 83.64309548,  88.63911704,  15.91147972],\n",
       "       [  0.        ,   0.        ,   0.        ],\n",
       "       [129.32809392, 154.45946733,  89.44258478],\n",
       "       [ 58.7241976 ,  73.07033085,  29.40707017],\n",
       "       [ 84.63715399,  56.60552613, 139.101429  ],\n",
       "       [108.00525674,  55.62775744, 146.16957665],\n",
       "       [  0.        ,   0.        ,   0.        ],\n",
       "       [ 56.27051581,  84.49865519, 151.33333333],\n",
       "       [122.93248377,  32.03142699,  47.02804255],\n",
       "       [187.33086273, 120.52080245,  87.88664888],\n",
       "       [151.61136438,  64.19309671, 119.6905731 ],\n",
       "       [ 61.85612702,  44.56672592, 116.55667259],\n",
       "       [186.87956675,  73.10504599, 106.14613599],\n",
       "       [ 71.10390777, 150.2407546 ,  72.64061486],\n",
       "       [105.17740966,  69.40811947,  85.82456442],\n",
       "       [ 74.48356594,  17.16239987, 100.25414981],\n",
       "       [ 73.65063788, 105.23832188, 158.23498528],\n",
       "       [105.6561199 , 130.90445462,  97.14435887],\n",
       "       [ 89.1990922 ,  86.06167675,  43.500712  ],\n",
       "       [  0.        ,   0.        ,   0.        ],\n",
       "       [ 99.76035298, 117.27998739,  62.57239206],\n",
       "       [191.58748373,  97.89270082,  89.43806932],\n",
       "       [148.34602493, 125.02255199, 168.33336588],\n",
       "       [ 49.40031991,  68.58267129, 103.21173021],\n",
       "       [ 71.24641075, 119.48345382,  21.3700913 ],\n",
       "       [  0.        ,   0.        ,   0.        ],\n",
       "       [ 55.8255676 , 139.94281599,  36.97373772],\n",
       "       [ 95.11728607, 155.46374392, 133.98772645],\n",
       "       [ 23.10917031, 117.00021302,  72.0223666 ],\n",
       "       [106.43892518, 179.19737869, 138.56008875],\n",
       "       [151.96977907, 141.10212589,  72.77171043],\n",
       "       [122.40662969, 147.47327926,  29.42374892],\n",
       "       [  0.        ,   0.        ,   0.        ],\n",
       "       [107.70333924, 164.04318627, 104.0219196 ],\n",
       "       [ 99.1054866 , 161.19605386, 160.90280192],\n",
       "       [ 74.59498126, 124.70358351, 178.98249383],\n",
       "       [  0.        ,   0.        ,   0.        ],\n",
       "       [  0.        ,   0.        ,   0.        ],\n",
       "       [ 61.52435838, 177.83121792,  97.74909006],\n",
       "       [137.62389012, 113.28690344, 109.43146504],\n",
       "       [  0.        ,   0.        ,   0.        ],\n",
       "       [ 69.24665873, 178.14893812,  73.19081838],\n",
       "       [ 52.52063585, 121.69870206,  67.13898206],\n",
       "       [169.21934547, 142.08329805,  59.94670619],\n",
       "       [  0.        ,   0.        ,   0.        ],\n",
       "       [ 79.29211273, 134.50430048, 146.47973282],\n",
       "       [161.83116883,  96.99334616,  52.78876062],\n",
       "       [100.7356477 , 119.68111334,  37.39485147],\n",
       "       [136.06810462,  96.10852582, 106.66338315],\n",
       "       [ 99.18405627, 142.12964623, 116.81980553],\n",
       "       [ 52.43357466,  26.27776746, 123.21527133],\n",
       "       [151.52386946,  36.63011023,  64.13783526],\n",
       "       [153.197423  ,  43.44316477, 143.2751743 ],\n",
       "       [104.57352347, 185.50152523,  87.22503583],\n",
       "       [ 83.72589174,  56.59934656, 170.94930782],\n",
       "       [133.30774872,  74.15057443,  45.60953312],\n",
       "       [ 71.79777764,  86.75842593, 137.11572227],\n",
       "       [171.41195684,  46.15345582,  84.23412073],\n",
       "       [ 20.50365583,  66.07957958, 109.59929495],\n",
       "       [160.71722157,  35.5729606 , 111.16068384],\n",
       "       [154.59843612, 120.60247194,  92.26384159],\n",
       "       [121.65701392, 114.2754795 ,  92.63369688],\n",
       "       [103.84123752,  13.45028392, 116.3691404 ],\n",
       "       [  0.        ,   0.        ,   0.        ],\n",
       "       [125.97863983, 102.02379484, 182.98870313],\n",
       "       [ 31.08527084, 136.30967425,  57.18060242],\n",
       "       [  0.        ,   0.        ,   0.        ],\n",
       "       [ 17.51357466, 119.44557207, 115.2989011 ],\n",
       "       [  0.        ,   0.        ,   0.        ],\n",
       "       [145.37216249, 158.54670699,  55.3671595 ],\n",
       "       [ 57.11851852,  31.60365297,  63.83500761],\n",
       "       [151.66946819,  82.54571801, 106.26546877],\n",
       "       [  0.        ,   0.        ,   0.        ],\n",
       "       [  0.        ,   0.        ,   0.        ],\n",
       "       [160.10458344,  68.51743057,  69.73427872],\n",
       "       [141.51278269, 125.21946903,  70.99115044],\n",
       "       [175.19980943,  67.98685088,  88.27336827],\n",
       "       [ 92.94277647, 111.93747479, 141.58018786],\n",
       "       [  0.        ,   0.        ,   0.        ],\n",
       "       [167.93020847,  90.82118348, 106.17687427],\n",
       "       [ 40.73084019,  50.25011219,  59.62413363],\n",
       "       [ 44.78125995, 149.33479839, 145.92432639],\n",
       "       [ 52.55986439, 136.40929779,  92.81265094],\n",
       "       [  0.        ,   0.        ,   0.        ],\n",
       "       [166.77604309,  92.54879942, 126.03752397],\n",
       "       [191.74873291, 113.64598372, 106.03209952],\n",
       "       [  0.        ,   0.        ,   0.        ],\n",
       "       [ 94.46336088, 110.08130657, 185.19535616],\n",
       "       [ 46.1677708 , 165.42456997, 125.99320084],\n",
       "       [ 72.85653896, 162.69670271,  46.09384595],\n",
       "       [159.54070702, 165.03392251,  90.35404392],\n",
       "       [179.702691  , 113.81787813,  58.77321373],\n",
       "       [ 88.05832276, 185.04477551, 108.56837065],\n",
       "       [ 80.47574999,  22.59006238, 130.24419739],\n",
       "       [  0.        ,   0.        ,   0.        ],\n",
       "       [104.88010991, 150.50839146,  59.95988163],\n",
       "       [ 39.75520017, 123.00464639, 151.88384029],\n",
       "       [107.3051622 ,  50.80752235,  50.54132771],\n",
       "       [121.98863593, 172.91596671,  58.3258333 ],\n",
       "       [111.03661538,  89.96625641,  71.83784615],\n",
       "       [182.38009592, 128.50142386, 120.28732014],\n",
       "       [  0.        ,   0.        ,   0.        ],\n",
       "       [136.44877388,  20.78174367,  91.82057638],\n",
       "       [  0.        ,   0.        ,   0.        ],\n",
       "       [109.10590203,  35.57318996, 109.20497013],\n",
       "       [ 25.60271265,  96.4715282 ,  54.27878755],\n",
       "       [ 35.08547982,  73.56795218,  48.77875812],\n",
       "       [  0.        ,   0.        ,   0.        ],\n",
       "       [  0.        ,   0.        ,   0.        ],\n",
       "       [ 66.84666756,  37.9056587 , 151.41903744],\n",
       "       [115.60146252,  93.13162706,  96.7664026 ],\n",
       "       [173.13455178, 148.86370757, 112.24496664],\n",
       "       [  0.        ,   0.        ,   0.        ],\n",
       "       [ 89.99668898,  81.51918232, 130.28028504],\n",
       "       [ 91.64486912, 120.44887238, 115.98016484],\n",
       "       [135.90470865, 179.09848636,  88.06461919],\n",
       "       [  0.        ,   0.        ,   0.        ],\n",
       "       [114.84282635,  95.78756158, 118.26200739],\n",
       "       [ 66.91024166, 162.3927407 , 147.80509206],\n",
       "       [141.45625367, 117.64484243, 132.98375416],\n",
       "       [ 90.3576861 ,  96.44918184,  68.44034724],\n",
       "       [ 68.31378315, 157.18456288, 114.17033342],\n",
       "       [128.88379344,  45.1871245 , 162.89782493],\n",
       "       [ 46.72943802, 155.43189248,  60.44865342],\n",
       "       [ 29.1053255 ,  68.99891842,  74.90203956],\n",
       "       [152.0174114 , 102.5146379 ,  99.47565485],\n",
       "       [129.9011013 ,  48.10822157,  65.71627958],\n",
       "       [  0.        ,   0.        ,   0.        ],\n",
       "       [110.87246921,  89.50080011, 140.82244486],\n",
       "       [ 15.35939477, 111.88797799,  95.40203576],\n",
       "       [133.69699848, 111.10429331,  85.82921733],\n",
       "       [116.40331167,  67.63333103, 178.65649198],\n",
       "       [  0.        ,   0.        ,   0.        ],\n",
       "       [  0.        ,   0.        ,   0.        ],\n",
       "       [ 34.6087348 ,  82.32038335, 160.29118158],\n",
       "       [ 99.25167276,  87.32104593, 160.30282008],\n",
       "       [123.83821373, 152.52364335, 129.39210034],\n",
       "       [ 94.77382144, 175.95037449,  58.70897585],\n",
       "       [ 64.82026051, 113.02252432, 131.77185598],\n",
       "       [  0.        ,   0.        ,   0.        ],\n",
       "       [114.81611586,  61.89731146, 122.3123026 ],\n",
       "       [165.20861212, 140.56905945, 146.21621105],\n",
       "       [ 83.13565395, 126.78564116,  86.2093678 ],\n",
       "       [ 99.50975861,  30.7191155 , 153.53866117],\n",
       "       [116.2801457 ,  95.42826056,  42.58881688],\n",
       "       [135.75225992,  74.04179222, 119.70444124],\n",
       "       [ 73.65875946, 134.42420575, 116.33670197],\n",
       "       [  0.        ,   0.        ,   0.        ],\n",
       "       [  0.        ,   0.        ,   0.        ],\n",
       "       [  0.        ,   0.        ,   0.        ],\n",
       "       [169.96568839, 125.01791109,  80.44421666],\n",
       "       [143.19154388,  79.04330557,  90.77386291],\n",
       "       [  0.        ,   0.        ,   0.        ],\n",
       "       [  0.        ,   0.        ,   0.        ],\n",
       "       [150.08924887,  79.90360663, 170.75670513],\n",
       "       [ 82.07671699,  45.58431655,  66.31160802],\n",
       "       [ 78.51762236, 149.33139985, 170.4037123 ],\n",
       "       [171.19465517,  93.26954023, 154.92258621],\n",
       "       [ 54.20920122,  61.76371106, 164.29595834],\n",
       "       [ 40.38660114, 161.29695532,  82.03547421],\n",
       "       [  0.        ,   0.        ,   0.        ],\n",
       "       [ 92.29997736, 107.54992076,  94.40457324],\n",
       "       [137.11343334, 107.47292874,  22.02069553],\n",
       "       [109.20872628,  76.14668788, 108.1598682 ],\n",
       "       [110.57125645, 120.90172117, 127.4686747 ],\n",
       "       [185.14908949, 100.93446295, 113.91537638],\n",
       "       [ 90.92497148, 147.61247567,  27.98570566],\n",
       "       [100.5194161 ,  90.37089002,  95.02111678],\n",
       "       [134.98713155, 137.12833667, 116.34118772],\n",
       "       [145.4463673 , 102.99000448,  80.37266895],\n",
       "       [ 38.00112618, 116.79785001,  42.53867417],\n",
       "       [ 40.61750559,  48.29535794, 141.78545861],\n",
       "       [  0.        ,   0.        ,   0.        ],\n",
       "       [ 26.76117048, 141.21336872, 132.00745894],\n",
       "       [  0.        ,   0.        ,   0.        ],\n",
       "       [114.23755126, 111.09065612, 108.12331576],\n",
       "       [  0.        ,   0.        ,   0.        ],\n",
       "       [ 66.16205714,  51.14594286,  39.11177143],\n",
       "       [  0.        ,   0.        ,   0.        ],\n",
       "       [ 20.4248089 ,  72.52904795, 133.79186935],\n",
       "       [128.15305823, 180.46912402, 119.23738894],\n",
       "       [132.40302732,  54.70988186, 135.850603  ],\n",
       "       [178.72271707, 142.18792092,  85.81070316],\n",
       "       [123.56091007,  74.26815359,  20.23919145],\n",
       "       [107.68533648,  16.02395249,  79.74797388],\n",
       "       [130.40989346, 104.33079655, 155.81161847],\n",
       "       [  0.        ,   0.        ,   0.        ],\n",
       "       [140.75876208,  69.06804647,  69.76383872],\n",
       "       [ 81.51325236,  43.9042915 , 103.76404858],\n",
       "       [ 47.9143169 ,  90.44924504,  74.27756049],\n",
       "       [  0.        ,   0.        ,   0.        ],\n",
       "       [ 74.45611285, 107.2235246 , 107.71030394],\n",
       "       [ 96.27672832,  98.31480566, 118.77114034],\n",
       "       [ 22.76868529, 117.44064672, 136.36250177],\n",
       "       [123.73455475,  72.59544099,  79.12377503],\n",
       "       [  0.        ,   0.        ,   0.        ],\n",
       "       [ 58.87745653,  51.14085811,  85.42108242],\n",
       "       [  0.        ,   0.        ,   0.        ],\n",
       "       [127.38659616, 106.20565582, 127.7537648 ],\n",
       "       [  0.        ,   0.        ,   0.        ],\n",
       "       [ 66.62623278,  71.54577052,  63.73072077],\n",
       "       [133.05267142, 157.21730903, 156.41746042],\n",
       "       [ 47.65765532, 109.2250065 , 170.18367559],\n",
       "       [155.39376371, 128.17247728,  37.76747101],\n",
       "       [ 48.87254318, 111.37343657,  97.94793528],\n",
       "       [ 40.26910533,  71.83628573, 133.45609772]])"
      ]
     },
     "execution_count": 5,
     "metadata": {},
     "output_type": "execute_result"
    }
   ],
   "source": [
    "points"
   ]
  }
 ],
 "metadata": {
  "kernelspec": {
   "display_name": "mesh",
   "language": "python",
   "name": "python3"
  },
  "language_info": {
   "codemirror_mode": {
    "name": "ipython",
    "version": 3
   },
   "file_extension": ".py",
   "mimetype": "text/x-python",
   "name": "python",
   "nbconvert_exporter": "python",
   "pygments_lexer": "ipython3",
   "version": "3.12.5"
  }
 },
 "nbformat": 4,
 "nbformat_minor": 2
}
