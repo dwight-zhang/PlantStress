{
 "cells": [
  {
   "cell_type": "code",
   "execution_count": 1,
   "id": "western-kitchen",
   "metadata": {},
   "outputs": [
    {
     "name": "stdout",
     "output_type": "stream",
     "text": [
      "optfile ./ng.opt does not exist - using default values\n",
      "togl-version : 2\n",
      "OCC module loaded\n",
      "loading ngsolve library\n",
      "NGSolve-6.2.2304\n",
      "Using Lapack\n",
      "Including sparse direct solver UMFPACK\n",
      "Running parallel using 10 thread(s)\n"
     ]
    },
    {
     "name": "stderr",
     "output_type": "stream",
     "text": [
      "2024-08-21 08:09:56.566 Python[39238:1269470] CGSSetSurfaceColorSpace failed - error 1000 (windowID:9334)\n",
      "2024-08-21 08:09:56.566 Python[39238:1269470] CGSSetSurfaceColorSpace failed - error 1000 (windowID:9334)\n"
     ]
    }
   ],
   "source": [
    "import netgen.gui\n",
    "from ngsolve import *\n",
    "from ngsolve.internal import visoptions\n",
    "from netgen.meshing import ImportMesh"
   ]
  },
  {
   "cell_type": "code",
   "execution_count": 2,
   "id": "configured-happiness",
   "metadata": {},
   "outputs": [],
   "source": [
    "ngmesh = ImportMesh('cell_mesh_R1_opt.mesh')"
   ]
  },
  {
   "cell_type": "code",
   "execution_count": 3,
   "id": "technical-vatican",
   "metadata": {},
   "outputs": [],
   "source": [
    "from netgen.meshing import FaceDescriptor\n",
    "isinplane = lambda el: all((((ngmesh[v][2] < -27) or (ngmesh[v][2] > 5)) for v in el.vertices))\n",
    "fd_id = ngmesh.Add(FaceDescriptor(surfnr=2,domin=1,domout=0,bc=2))\n",
    "for el in ngmesh.Elements2D():\n",
    "    if isinplane(el):\n",
    "        el.index = fd_id\n",
    "ngmesh.SetBCName(fd_id-1, \"new_bc\")"
   ]
  },
  {
   "cell_type": "code",
   "execution_count": 4,
   "id": "aging-fifty",
   "metadata": {},
   "outputs": [],
   "source": [
    "mesh = Mesh(ngmesh)\n",
    "Draw(mesh)"
   ]
  },
  {
   "cell_type": "code",
   "execution_count": 5,
   "id": "considerable-trust",
   "metadata": {},
   "outputs": [],
   "source": [
    "fes = VectorH1(mesh, order = 1, dirichlet=\"new_bc\")\n",
    "u,v = fes.TnT()"
   ]
  },
  {
   "cell_type": "code",
   "execution_count": 6,
   "id": "tracked-drilling",
   "metadata": {},
   "outputs": [
    {
     "data": {
      "text/plain": [
       "<ngsolve.comp.LinearForm at 0x7f7868b015f0>"
      ]
     },
     "execution_count": 6,
     "metadata": {},
     "output_type": "execute_result"
    }
   ],
   "source": [
    "a = BilinearForm(fes, symmetric=True)\n",
    "a += InnerProduct(grad(u).Trace(),grad(v).Trace())*ds\n",
    "a.Assemble()\n",
    "\n",
    "# external force\n",
    "force = 0.01\n",
    "nsurf = specialcf.normal(3)\n",
    "f = LinearForm(fes)\n",
    "# f += force*v*ds\n",
    "f += InnerProduct(force*nsurf,v)*ds\n",
    "f.Assemble()"
   ]
  },
  {
   "cell_type": "markdown",
   "id": "elect-street",
   "metadata": {},
   "source": [
    "Homogeneous Dirichlet data"
   ]
  },
  {
   "cell_type": "code",
   "execution_count": 7,
   "id": "competent-hundred",
   "metadata": {},
   "outputs": [
    {
     "name": "stdout",
     "output_type": "stream",
     "text": [
      "\n",
      "Selected point (-19.3009, -25.7812, 6.48962) on surface\n",
      "u = ( -0.0199472, -0.0406566, 0.0492585 )\n"
     ]
    }
   ],
   "source": [
    "gfu = GridFunction(fes)\n",
    "gfu.vec.data = a.mat.Inverse(fes.FreeDofs())*f.vec\n",
    "Draw(gfu, mesh, \"u\", autoscale=False)"
   ]
  }
 ],
 "metadata": {
  "kernelspec": {
   "display_name": "Python 3 (ipykernel)",
   "language": "python",
   "name": "python3"
  },
  "language_info": {
   "codemirror_mode": {
    "name": "ipython",
    "version": 3
   },
   "file_extension": ".py",
   "mimetype": "text/x-python",
   "name": "python",
   "nbconvert_exporter": "python",
   "pygments_lexer": "ipython3",
   "version": "3.10.12"
  }
 },
 "nbformat": 4,
 "nbformat_minor": 5
}
