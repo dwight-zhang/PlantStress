{
 "cells": [
  {
   "cell_type": "code",
   "execution_count": 1,
   "id": "demonstrated-asian",
   "metadata": {},
   "outputs": [
    {
     "name": "stdout",
     "output_type": "stream",
     "text": [
      "optfile ./ng.opt does not exist - using default values\n",
      "togl-version : 2\n",
      "OCC module loaded\n",
      "loading ngsolve library\n",
      "NGSolve-6.2.2403\n",
      "Using Lapack\n",
      "Including sparse direct solver UMFPACK\n",
      "Running parallel using 20 thread(s)\n"
     ]
    }
   ],
   "source": [
    "import netgen.gui\n",
    "from ngsolve import *\n",
    "from ngsolve.internal import visoptions\n",
    "from netgen.meshing import ImportMesh"
   ]
  },
  {
   "cell_type": "code",
   "execution_count": 2,
   "id": "decimal-flesh",
   "metadata": {},
   "outputs": [],
   "source": [
    "ngmesh = ImportMesh('cell_mesh_R1_opt.mesh')"
   ]
  },
  {
   "cell_type": "code",
   "execution_count": 3,
   "id": "toxic-furniture",
   "metadata": {},
   "outputs": [],
   "source": [
    "from netgen.meshing import FaceDescriptor\n",
    "isinplane = lambda el: all((((ngmesh[v][2] < -27) or (ngmesh[v][2] > 5)) for v in el.vertices))\n",
    "fd_id = ngmesh.Add(FaceDescriptor(surfnr=2,domin=1,domout=0,bc=2))\n",
    "for el in ngmesh.Elements2D():\n",
    "    if isinplane(el):\n",
    "        el.index = fd_id\n",
    "ngmesh.SetBCName(fd_id-1, \"new_bc\")"
   ]
  },
  {
   "cell_type": "code",
   "execution_count": 4,
   "id": "caring-hollow",
   "metadata": {},
   "outputs": [],
   "source": [
    "mesh = Mesh(ngmesh)\n",
    "Draw(mesh)"
   ]
  },
  {
   "cell_type": "code",
   "execution_count": 5,
   "id": "alternative-arbitration",
   "metadata": {},
   "outputs": [],
   "source": [
    "fes = VectorH1(mesh, order = 1, dirichlet=\"new_bc\")\n",
    "u,v = fes.TnT()"
   ]
  },
  {
   "cell_type": "code",
   "execution_count": 7,
   "id": "contemporary-queens",
   "metadata": {},
   "outputs": [
    {
     "ename": "SyntaxError",
     "evalue": "invalid non-printable character U+00A0 (2126232635.py, line 4)",
     "output_type": "error",
     "traceback": [
      "\u001b[0;36m  Cell \u001b[0;32mIn[7], line 4\u001b[0;36m\u001b[0m\n\u001b[0;31m    a += InnerProduct(grad(u).Trace() * nsurf, grad(v).Trace() * nsurf)*ds\u001b[0m\n\u001b[0m                                                                          ^\u001b[0m\n\u001b[0;31mSyntaxError\u001b[0m\u001b[0;31m:\u001b[0m invalid non-printable character U+00A0\n"
     ]
    }
   ],
   "source": [
    "nsurf = specialcf.normal(3)\n",
    "a = BilinearForm(fes, symmetric=True)\n",
    "a += InnerProduct(grad(u).Trace(),grad(v).Trace())*ds\n",
    "a += InnerProduct(grad(u).Trace() * nsurf, grad(v).Trace() * nsurf)*ds          \n",
    "a.Assemble()  \n",
    "\n",
    "# external force \n",
    "force = 0.01\n",
    "nsurf = specialcf.normal(3)\n",
    "f = LinearForm(fes)\n",
    "# f += force*v*ds\n",
    "f += InnerProduct(force*nsurf,v)*ds\n",
    "f.Assemble()"
   ]
  },
  {
   "cell_type": "markdown",
   "id": "billion-sentence",
   "metadata": {},
   "source": [
    "Homogeneous Dirichlet data"
   ]
  },
  {
   "cell_type": "code",
   "execution_count": 8,
   "id": "dimensional-fitting",
   "metadata": {},
   "outputs": [],
   "source": [
    "gfu = GridFunction(fes)\n",
    "gfu.vec.data = a.mat.Inverse(fes.FreeDofs())*f.vec\n",
    "Draw(gfu, mesh, \"u\", autoscale=False)"
   ]
  }
 ],
 "metadata": {
  "kernelspec": {
   "display_name": "Python 3",
   "language": "python",
   "name": "python3"
  },
  "language_info": {
   "codemirror_mode": {
    "name": "ipython",
    "version": 3
   },
   "file_extension": ".py",
   "mimetype": "text/x-python",
   "name": "python",
   "nbconvert_exporter": "python",
   "pygments_lexer": "ipython3",
   "version": "3.8.7"
  }
 },
 "nbformat": 4,
 "nbformat_minor": 5
}
